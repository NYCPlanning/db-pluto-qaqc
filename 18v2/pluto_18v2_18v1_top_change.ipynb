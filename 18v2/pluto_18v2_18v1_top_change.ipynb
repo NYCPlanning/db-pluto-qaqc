{
 "cells": [
  {
   "cell_type": "code",
   "execution_count": 21,
   "metadata": {},
   "outputs": [
    {
     "name": "stdout",
     "output_type": "stream",
     "text": [
      "2019-02-01 14:19:43.369716\n"
     ]
    }
   ],
   "source": [
    "from pyspark.sql.functions import mean, udf, col, round\n",
    "from pyspark.sql.types import DoubleType\n",
    "from pyspark.sql.window import Window\n",
    "from pyspark.sql.functions import rank, col\n",
    "import pandas as pd\n",
    "import numpy as np\n",
    "import time\n",
    "import matplotlib.pyplot as plt\n",
    "import datetime\n",
    "print(datetime.datetime.now())\n",
    "%matplotlib inline"
   ]
  },
  {
   "cell_type": "markdown",
   "metadata": {},
   "source": [
    "## import csv files into spark dataframes\n",
    "Note: both files contain records from all 5 boroughs"
   ]
  },
  {
   "cell_type": "code",
   "execution_count": 2,
   "metadata": {},
   "outputs": [],
   "source": [
    "df1 = spark.read.csv('../data/pluto_18v2.csv', header=True)\n",
    "df2 = spark.read.csv('../data/pluto_18v1.csv', header=True)"
   ]
  },
  {
   "cell_type": "code",
   "execution_count": 3,
   "metadata": {},
   "outputs": [],
   "source": [
    "df1 = df1.select([col(A).alias(A.lower()) for A in df1.schema.names])\n",
    "df2 = df2.select([col(A).alias(A.lower()) for A in df2.schema.names])"
   ]
  },
  {
   "cell_type": "code",
   "execution_count": 4,
   "metadata": {},
   "outputs": [],
   "source": [
    "double_columns = ['bldgarea', 'facilfar',\n",
    "                  'residfar', 'commfar', 'numbldgs', 'numfloors', 'bldgdepth', \n",
    "                  'bldgfront', 'lotdepth', 'lotfront', \n",
    "                  'exempttot', 'exemptland',  'assessland', 'assesstot', 'builtfar']"
   ]
  },
  {
   "cell_type": "code",
   "execution_count": 5,
   "metadata": {},
   "outputs": [],
   "source": [
    "cols = df2.columns"
   ]
  },
  {
   "cell_type": "code",
   "execution_count": 6,
   "metadata": {},
   "outputs": [],
   "source": [
    "df1 = df1.select(cols)\n",
    "df2 = df2.select(cols)"
   ]
  },
  {
   "cell_type": "markdown",
   "metadata": {},
   "source": [
    "## Type Conversion"
   ]
  },
  {
   "cell_type": "code",
   "execution_count": 7,
   "metadata": {},
   "outputs": [],
   "source": [
    "for A in double_columns: \n",
    "    df1 = df1.withColumn(A, round(col(A).cast(DoubleType()), 2))\n",
    "    df2 = df2.withColumn(A, round(col(A).cast(DoubleType()), 2))"
   ]
  },
  {
   "cell_type": "markdown",
   "metadata": {},
   "source": [
    "## Change column names and joining dataframes\n",
    "* since we are doing column comparison, we need to the column names of one df to avoid confusion\n",
    "* in this case, we add \"_1\"_ to the name, e.g. \"BBL\" ==> \"BBL_1\"\n",
    "* here we are doing an inner join because we only care about the BBL's that apeared in both dataframes"
   ]
  },
  {
   "cell_type": "code",
   "execution_count": 8,
   "metadata": {},
   "outputs": [],
   "source": [
    "df1 = df1.select([col(A).alias(A+'_1') for A in df1.schema.names])"
   ]
  },
  {
   "cell_type": "code",
   "execution_count": 9,
   "metadata": {},
   "outputs": [],
   "source": [
    "df1_names = df1.schema.names\n",
    "df2_names = df2.schema.names\n",
    "colnames = zip(df1_names, df2_names)"
   ]
  },
  {
   "cell_type": "code",
   "execution_count": 10,
   "metadata": {},
   "outputs": [],
   "source": [
    "df = df2.join(df1, df2['bbl'] == df1['bbl_1'])\n",
    "df0 = df"
   ]
  },
  {
   "cell_type": "markdown",
   "metadata": {},
   "source": [
    "## Inspect top differences"
   ]
  },
  {
   "cell_type": "code",
   "execution_count": 11,
   "metadata": {},
   "outputs": [],
   "source": [
    "@udf\n",
    "def diff(col1,col2):\n",
    "    try:\n",
    "        return abs(col2-col1)\n",
    "    except: \n",
    "        pass"
   ]
  },
  {
   "cell_type": "code",
   "execution_count": 12,
   "metadata": {},
   "outputs": [],
   "source": [
    "spark.sql('set spark.sql.caseSensitive=true')\n",
    "targets = ['unitsres','lotarea','bldgarea',\n",
    "             'comarea','resarea',\n",
    "             'officearea','retailarea',\n",
    "             'garagearea','strgearea',\n",
    "             'factryarea','otherarea']\n",
    "for A in targets:\n",
    "    df0 = df0.withColumn(A+'_diff', diff(col(A).cast(DoubleType()),col(A+'_1').cast(DoubleType())))"
   ]
  },
  {
   "cell_type": "code",
   "execution_count": 13,
   "metadata": {},
   "outputs": [
    {
     "name": "stdout",
     "output_type": "stream",
     "text": [
      "+----------+-------------+\n",
      "|       bbl|unitsres_diff|\n",
      "+----------+-------------+\n",
      "|1008317502|       2916.0|\n",
      "|1007290050|        844.0|\n",
      "|1002487501|        816.0|\n",
      "|1010517502|        747.0|\n",
      "|3001667502|        712.0|\n",
      "+----------+-------------+\n",
      "only showing top 5 rows\n",
      "\n"
     ]
    }
   ],
   "source": [
    "df0.select('bbl', col('unitsres_diff').cast(DoubleType())).orderBy('unitsres_diff', ascending=False).show(5)"
   ]
  },
  {
   "cell_type": "code",
   "execution_count": 14,
   "metadata": {},
   "outputs": [
    {
     "name": "stdout",
     "output_type": "stream",
     "text": [
      "+----------+------------+\n",
      "|       bbl|comarea_diff|\n",
      "+----------+------------+\n",
      "|1007559040|   1378125.0|\n",
      "|1005967502|    963445.0|\n",
      "|5017600035|    904400.0|\n",
      "|5009550100|    686130.0|\n",
      "|3007150001|    679585.0|\n",
      "+----------+------------+\n",
      "only showing top 5 rows\n",
      "\n"
     ]
    }
   ],
   "source": [
    "df0.select('bbl', col('comarea_diff').cast(DoubleType())).orderBy('comarea_diff', ascending=False).show(5)"
   ]
  },
  {
   "cell_type": "code",
   "execution_count": 15,
   "metadata": {},
   "outputs": [
    {
     "name": "stdout",
     "output_type": "stream",
     "text": [
      "+----------+------------+\n",
      "|       bbl|resarea_diff|\n",
      "+----------+------------+\n",
      "|1007297502|    858611.0|\n",
      "|3001570001|    590018.0|\n",
      "|2025260090|    475438.0|\n",
      "|3024720050|    378392.0|\n",
      "|4008907501|    346781.0|\n",
      "+----------+------------+\n",
      "only showing top 5 rows\n",
      "\n"
     ]
    }
   ],
   "source": [
    "df0.select('bbl', col('resarea_diff').cast(DoubleType())).orderBy('resarea_diff', ascending=False).show(5)"
   ]
  },
  {
   "cell_type": "code",
   "execution_count": 16,
   "metadata": {},
   "outputs": [
    {
     "name": "stdout",
     "output_type": "stream",
     "text": [
      "+----------+---------------+\n",
      "|       bbl|officearea_diff|\n",
      "+----------+---------------+\n",
      "|1005967502|       963445.0|\n",
      "|4000717501|       654962.0|\n",
      "|4004207501|       505416.0|\n",
      "|1000057501|       492719.0|\n",
      "|1009220046|       331459.0|\n",
      "+----------+---------------+\n",
      "only showing top 5 rows\n",
      "\n"
     ]
    }
   ],
   "source": [
    "df0.select('bbl', col('officearea_diff').cast(DoubleType())).orderBy('officearea_diff', ascending=False).show(5)"
   ]
  },
  {
   "cell_type": "code",
   "execution_count": 17,
   "metadata": {},
   "outputs": [
    {
     "name": "stdout",
     "output_type": "stream",
     "text": [
      "+----------+---------------+\n",
      "|       bbl|retailarea_diff|\n",
      "+----------+---------------+\n",
      "|5024000180|       317994.0|\n",
      "|1021760017|       141600.0|\n",
      "|3027800001|        86375.0|\n",
      "|4097557501|        79076.0|\n",
      "|3085900031|        55200.0|\n",
      "+----------+---------------+\n",
      "only showing top 5 rows\n",
      "\n"
     ]
    }
   ],
   "source": [
    "df0.select('bbl', col('retailarea_diff').cast(DoubleType()))\\\n",
    "    .orderBy('retailarea_diff', ascending=False).show(5)"
   ]
  },
  {
   "cell_type": "code",
   "execution_count": 18,
   "metadata": {},
   "outputs": [
    {
     "name": "stdout",
     "output_type": "stream",
     "text": [
      "+----------+---------------+\n",
      "|       bbl|garagearea_diff|\n",
      "+----------+---------------+\n",
      "|4009260001|       368000.0|\n",
      "|2051350210|       296715.0|\n",
      "|1009910060|       294656.0|\n",
      "|1012640005|       255714.0|\n",
      "|3001570001|       248600.0|\n",
      "+----------+---------------+\n",
      "only showing top 5 rows\n",
      "\n"
     ]
    }
   ],
   "source": [
    "df0.select('bbl', col('garagearea_diff').cast(DoubleType()))\\\n",
    "    .orderBy('garagearea_diff', ascending=False).show(5)"
   ]
  },
  {
   "cell_type": "code",
   "execution_count": 19,
   "metadata": {},
   "outputs": [
    {
     "name": "stdout",
     "output_type": "stream",
     "text": [
      "+----------+---------------+\n",
      "|       bbl|factryarea_diff|\n",
      "+----------+---------------+\n",
      "|5017600035|       855000.0|\n",
      "|2026040270|       195551.0|\n",
      "|5070900001|       140830.0|\n",
      "|3053010001|       124954.0|\n",
      "|2037087501|       121160.0|\n",
      "+----------+---------------+\n",
      "only showing top 5 rows\n",
      "\n"
     ]
    }
   ],
   "source": [
    "df0.select('bbl', col('factryarea_diff').cast(DoubleType()))\\\n",
    "    .orderBy('factryarea_diff', ascending=False).show(5)"
   ]
  },
  {
   "cell_type": "code",
   "execution_count": 20,
   "metadata": {},
   "outputs": [
    {
     "name": "stdout",
     "output_type": "stream",
     "text": [
      "+----------+--------------+\n",
      "|       bbl|otherarea_diff|\n",
      "+----------+--------------+\n",
      "|1007559040|     1378125.0|\n",
      "|3007150001|      679585.0|\n",
      "|3078810033|      480000.0|\n",
      "|3006440001|      427123.0|\n",
      "|1009220046|      331459.0|\n",
      "+----------+--------------+\n",
      "only showing top 5 rows\n",
      "\n"
     ]
    }
   ],
   "source": [
    "df0.select('bbl', col('otherarea_diff').cast(DoubleType()))\\\n",
    "    .orderBy('otherarea_diff', ascending=False).show(5)"
   ]
  }
 ],
 "metadata": {
  "kernelspec": {
   "display_name": "Python 3",
   "language": "python",
   "name": "python3"
  },
  "language_info": {
   "codemirror_mode": {
    "name": "ipython",
    "version": 3
   },
   "file_extension": ".py",
   "mimetype": "text/x-python",
   "name": "python",
   "nbconvert_exporter": "python",
   "pygments_lexer": "ipython3",
   "version": "3.7.1"
  }
 },
 "nbformat": 4,
 "nbformat_minor": 2
}
