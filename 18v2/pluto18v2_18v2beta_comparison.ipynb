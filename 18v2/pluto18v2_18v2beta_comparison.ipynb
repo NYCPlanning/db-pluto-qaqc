{
 "cells": [
  {
   "cell_type": "code",
   "execution_count": 1,
   "metadata": {},
   "outputs": [
    {
     "name": "stdout",
     "output_type": "stream",
     "text": [
      "2019-03-28 09:39:53.225574\n"
     ]
    }
   ],
   "source": [
    "from pyspark.sql.functions import mean, udf, col, round\n",
    "from pyspark.sql.types import DoubleType\n",
    "from pyspark.sql.window import Window\n",
    "from pyspark.sql.functions import rank, col\n",
    "import pandas as pd\n",
    "import numpy as np\n",
    "import time\n",
    "import datetime\n",
    "import matplotlib.pyplot as plt\n",
    "\n",
    "%matplotlib inline\n",
    "now = datetime.datetime.now()\n",
    "print(now)\n",
    "os.environ[\"PYSPARK_PYTHON\"]=\"/anaconda3/bin/python3\"\n",
    "df1 = spark.read.csv('data/pluto_18v2.csv', header=True)\n",
    "df2 = spark.read.csv('data/pluto.csv', header=True)\n",
    "\n",
    "df1 = df1.select([col(A).alias(A.lower()) for A in df1.schema.names])\n",
    "df2 = df2.select([col(A).alias(A.lower()) for A in df2.schema.names])\n",
    "\n",
    "double_columns = ['bldgarea', 'facilfar','residfar', 'commfar', \n",
    "                  'numbldgs', 'numfloors', 'bldgdepth','bldgfront', \n",
    "                  'lotdepth', 'lotfront','exemptland', 'exempttot', \n",
    "                  'assessland', 'assesstot','builtfar']\n",
    "cols = df2.columns\n",
    "df1 = df1.select(cols)\n",
    "df2 = df2.select(cols)\n",
    "\n",
    "for A in double_columns: \n",
    "    df1 = df1.withColumn(A, round(col(A).cast(DoubleType()), 2))\n",
    "    df2 = df2.withColumn(A, round(col(A).cast(DoubleType()), 2))\n",
    "    \n",
    "\n",
    "df1 = df1.select([col(A).alias(A+'_1') for A in df1.schema.names])\n",
    "\n",
    "colnames = zip(df1.columns, df2.columns)\n",
    "\n",
    "df = df2.join(df1, df2['bbl'] == df1['bbl_1'])"
   ]
  },
  {
   "cell_type": "code",
   "execution_count": 2,
   "metadata": {},
   "outputs": [],
   "source": [
    "@udf\n",
    "def compare(col1,col2):\n",
    "    if col1!=col2:\n",
    "        return 1\n",
    "    else:\n",
    "        return 0\n",
    "    \n",
    "access_cols = ['exemptland', 'exempttot', 'assessland', 'assesstot']\n",
    "\n",
    "@udf #special access column comparison\n",
    "def compare_a(col1,col2):\n",
    "    try: \n",
    "        if abs(col1 - col2) > 10: \n",
    "            return 1\n",
    "        else: \n",
    "            return 0\n",
    "    except: \n",
    "        return 0"
   ]
  },
  {
   "cell_type": "code",
   "execution_count": 3,
   "metadata": {},
   "outputs": [],
   "source": [
    "spark.sql('set spark.sql.caseSensitive=true')\n",
    "for A,B in colnames:\n",
    "    if B in access_cols:\n",
    "        df = df.withColumn(B+'%', compare_a(col(A),col(B)))\\\n",
    "               .drop(A,B)\n",
    "    else:\n",
    "        df = df.withColumn(B+'%', compare(col(A),col(B)))\\\n",
    "                   .drop(A,B)\n",
    "        \n",
    "results = df.select(*[mean(col(A)).alias(A) for A in df.columns])"
   ]
  },
  {
   "cell_type": "code",
   "execution_count": 4,
   "metadata": {},
   "outputs": [],
   "source": [
    "start_time = time.time()\n",
    "results_df = results.toPandas()\n",
    "elapsed_time = time.time() - start_time"
   ]
  },
  {
   "cell_type": "code",
   "execution_count": 5,
   "metadata": {},
   "outputs": [
    {
     "data": {
      "text/plain": [
       "bldgarea%      0.007035\n",
       "areasource%    0.002527\n",
       "geom%          0.000000\n",
       "resarea%       0.000000\n",
       "splitzone%     0.000000\n",
       "bldgclass%     0.000000\n",
       "landuse%       0.000000\n",
       "easements%     0.000000\n",
       "ownertype%     0.000000\n",
       "ownername%     0.000000\n",
       "lotarea%       0.000000\n",
       "comarea%       0.000000\n",
       "officearea%    0.000000\n",
       "lotdepth%      0.000000\n",
       "retailarea%    0.000000\n",
       "garagearea%    0.000000\n",
       "strgearea%     0.000000\n",
       "factryarea%    0.000000\n",
       "otherarea%     0.000000\n",
       "numbldgs%      0.000000\n",
       "numfloors%     0.000000\n",
       "unitsres%      0.000000\n",
       "unitstotal%    0.000000\n",
       "ltdheight%     0.000000\n",
       "spdist3%       0.000000\n",
       "spdist2%       0.000000\n",
       "policeprct%    0.000000\n",
       "block%         0.000000\n",
       "lot%           0.000000\n",
       "cd%            0.000000\n",
       "Name: 0, dtype: float64"
      ]
     },
     "execution_count": 5,
     "metadata": {},
     "output_type": "execute_result"
    }
   ],
   "source": [
    "results_df.iloc[0,:].sort_values(ascending=False)[0:30]"
   ]
  }
 ],
 "metadata": {
  "kernelspec": {
   "display_name": "Python 2",
   "language": "python",
   "name": "python2"
  },
  "language_info": {
   "codemirror_mode": {
    "name": "ipython",
    "version": 3
   },
   "file_extension": ".py",
   "mimetype": "text/x-python",
   "name": "python",
   "nbconvert_exporter": "python",
   "pygments_lexer": "ipython3",
   "version": "3.7.1"
  }
 },
 "nbformat": 4,
 "nbformat_minor": 2
}
