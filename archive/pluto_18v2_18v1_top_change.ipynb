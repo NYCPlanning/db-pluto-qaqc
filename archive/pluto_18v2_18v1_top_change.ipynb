{
 "cells": [
  {
   "cell_type": "code",
   "execution_count": 38,
   "metadata": {},
   "outputs": [],
   "source": [
    "from pyspark.sql.functions import mean, udf, col, round\n",
    "from pyspark.sql.types import DoubleType\n",
    "from pyspark.sql.window import Window\n",
    "from pyspark.sql.functions import rank, col\n",
    "import pandas as pd\n",
    "import numpy as np\n",
    "import time\n",
    "import matplotlib.pyplot as plt\n",
    "%matplotlib inline"
   ]
  },
  {
   "cell_type": "code",
   "execution_count": 39,
   "metadata": {},
   "outputs": [],
   "source": [
    "spark_session  = SparkSession.builder\\\n",
    "                        .enableHiveSupport()\\\n",
    "                        .getOrCreate()\n",
    "\n",
    "spark_session.conf.set(\"spark.executor.memory\", '8g')\n",
    "spark_session.conf.set('spark.executor.cores', '13')\n",
    "spark_session.conf.set('spark.cores.max', '13')\n",
    "spark_session.conf.set(\"spark.driver.memory\",'8g')\n",
    "sc = spark_session.sparkContext"
   ]
  },
  {
   "cell_type": "markdown",
   "metadata": {},
   "source": [
    "## import csv files into spark dataframes\n",
    "Note: both files contain records from all 5 boroughs"
   ]
  },
  {
   "cell_type": "code",
   "execution_count": 40,
   "metadata": {},
   "outputs": [],
   "source": [
    "df1 = spark.read.csv('data/pluto.csv', header=True)\n",
    "df2 = spark.read.csv('data/pluto_18v1.csv', header=True)"
   ]
  },
  {
   "cell_type": "code",
   "execution_count": 41,
   "metadata": {},
   "outputs": [],
   "source": [
    "df1 = df1.select([col(A).alias(A.lower()) for A in df1.schema.names])\n",
    "df2 = df2.select([col(A).alias(A.lower()) for A in df2.schema.names])"
   ]
  },
  {
   "cell_type": "code",
   "execution_count": 42,
   "metadata": {},
   "outputs": [],
   "source": [
    "double_columns = ['bldgarea', 'facilfar',\n",
    "                  'residfar', 'commfar', 'numbldgs', 'numfloors', 'bldgdepth', \n",
    "                  'bldgfront', 'lotdepth', 'lotfront', \n",
    "                  'exempttot', 'exemptland',  'assessland', 'assesstot', 'builtfar']"
   ]
  },
  {
   "cell_type": "code",
   "execution_count": 43,
   "metadata": {},
   "outputs": [],
   "source": [
    "cols = df2.columns"
   ]
  },
  {
   "cell_type": "code",
   "execution_count": 44,
   "metadata": {},
   "outputs": [],
   "source": [
    "df1 = df1.select(cols)\n",
    "df2 = df2.select(cols)"
   ]
  },
  {
   "cell_type": "markdown",
   "metadata": {},
   "source": [
    "## Type Conversion"
   ]
  },
  {
   "cell_type": "code",
   "execution_count": 45,
   "metadata": {},
   "outputs": [],
   "source": [
    "for A in double_columns: \n",
    "    df1 = df1.withColumn(A, round(col(A).cast(DoubleType()), 2))\n",
    "    df2 = df2.withColumn(A, round(col(A).cast(DoubleType()), 2))"
   ]
  },
  {
   "cell_type": "markdown",
   "metadata": {},
   "source": [
    "## Change column names and joining dataframes\n",
    "* since we are doing column comparison, we need to the column names of one df to avoid confusion\n",
    "* in this case, we add \"_1\"_ to the name, e.g. \"BBL\" ==> \"BBL_1\"\n",
    "* here we are doing an inner join because we only care about the BBL's that apeared in both dataframes"
   ]
  },
  {
   "cell_type": "code",
   "execution_count": 46,
   "metadata": {},
   "outputs": [],
   "source": [
    "df1 = df1.select([col(A).alias(A+'_1') for A in df1.schema.names])"
   ]
  },
  {
   "cell_type": "code",
   "execution_count": 47,
   "metadata": {},
   "outputs": [],
   "source": [
    "df1_names = df1.schema.names\n",
    "df2_names = df2.schema.names\n",
    "colnames = zip(df1_names, df2_names)"
   ]
  },
  {
   "cell_type": "code",
   "execution_count": 48,
   "metadata": {},
   "outputs": [],
   "source": [
    "df = df2.join(df1, df2['bbl'] == df1['bbl_1'])\n",
    "df0 = df"
   ]
  },
  {
   "cell_type": "markdown",
   "metadata": {},
   "source": [
    "## Inspect top differences"
   ]
  },
  {
   "cell_type": "code",
   "execution_count": 12,
   "metadata": {},
   "outputs": [],
   "source": [
    "@udf\n",
    "def diff(col1,col2):\n",
    "    try:\n",
    "        return abs(col2-col1)\n",
    "    except: \n",
    "        pass"
   ]
  },
  {
   "cell_type": "code",
   "execution_count": 13,
   "metadata": {},
   "outputs": [],
   "source": [
    "spark.sql('set spark.sql.caseSensitive=true')\n",
    "targets = ['unitsres','lotarea','bldgarea',\n",
    "             'comarea','resarea',\n",
    "             'officearea','retailarea',\n",
    "             'garagearea','strgearea',\n",
    "             'factryarea','otherarea']\n",
    "for A in targets:\n",
    "    df0 = df0.withColumn(A+'_diff', diff(col(A).cast(DoubleType()),col(A+'_1').cast(DoubleType())))"
   ]
  },
  {
   "cell_type": "code",
   "execution_count": 14,
   "metadata": {},
   "outputs": [
    {
     "name": "stdout",
     "output_type": "stream",
     "text": [
      "+----------+-------------+\n",
      "|       bbl|unitsres_diff|\n",
      "+----------+-------------+\n",
      "|2051410120|      10914.0|\n",
      "|1013730001|       8018.0|\n",
      "|2051350051|       4458.0|\n",
      "|1008317502|       2916.0|\n",
      "|3044520200|       2229.0|\n",
      "+----------+-------------+\n",
      "only showing top 5 rows\n",
      "\n"
     ]
    }
   ],
   "source": [
    "df0.select('bbl', col('unitsres_diff').cast(DoubleType())).orderBy('unitsres_diff', ascending=False).show(5)"
   ]
  },
  {
   "cell_type": "code",
   "execution_count": 15,
   "metadata": {},
   "outputs": [
    {
     "name": "stdout",
     "output_type": "stream",
     "text": [
      "+----------+------------+\n",
      "|       bbl|comarea_diff|\n",
      "+----------+------------+\n",
      "|4070210001|   4168578.0|\n",
      "|1007830070|   2689635.0|\n",
      "|1007390001|   2161994.0|\n",
      "|1009950005|   1642675.0|\n",
      "|2027810500|   1598812.0|\n",
      "+----------+------------+\n",
      "only showing top 5 rows\n",
      "\n"
     ]
    }
   ],
   "source": [
    "df0.select('bbl', col('comarea_diff').cast(DoubleType())).orderBy('comarea_diff', ascending=False).show(5)"
   ]
  },
  {
   "cell_type": "code",
   "execution_count": 16,
   "metadata": {},
   "outputs": [
    {
     "name": "stdout",
     "output_type": "stream",
     "text": [
      "+----------+------------+\n",
      "|       bbl|resarea_diff|\n",
      "+----------+------------+\n",
      "|1021060003|   2508580.0|\n",
      "|3044520085|   1688760.0|\n",
      "|3044520001|   1493793.0|\n",
      "|3044520020|   1485000.0|\n",
      "|3000860011|    878265.0|\n",
      "+----------+------------+\n",
      "only showing top 5 rows\n",
      "\n"
     ]
    }
   ],
   "source": [
    "df0.select('bbl', col('resarea_diff').cast(DoubleType())).orderBy('resarea_diff', ascending=False).show(5)"
   ]
  },
  {
   "cell_type": "code",
   "execution_count": 17,
   "metadata": {},
   "outputs": [
    {
     "name": "stdout",
     "output_type": "stream",
     "text": [
      "+----------+---------------+\n",
      "|       bbl|officearea_diff|\n",
      "+----------+---------------+\n",
      "|1007830070|      2319046.0|\n",
      "|1007390001|      2161994.0|\n",
      "|1009950005|      1597675.0|\n",
      "|1013010001|      1528689.0|\n",
      "|1013000001|      1177646.0|\n",
      "+----------+---------------+\n",
      "only showing top 5 rows\n",
      "\n"
     ]
    }
   ],
   "source": [
    "df0.select('bbl', col('officearea_diff').cast(DoubleType())).orderBy('officearea_diff', ascending=False).show(5)"
   ]
  },
  {
   "cell_type": "code",
   "execution_count": 18,
   "metadata": {},
   "outputs": [
    {
     "name": "stdout",
     "output_type": "stream",
     "text": [
      "+----------+---------------+\n",
      "|       bbl|retailarea_diff|\n",
      "+----------+---------------+\n",
      "|5024000180|       317994.0|\n",
      "|1007830070|       216912.0|\n",
      "|1008080040|       156078.0|\n",
      "|3006990001|       143900.0|\n",
      "|1021760017|       141600.0|\n",
      "+----------+---------------+\n",
      "only showing top 5 rows\n",
      "\n"
     ]
    }
   ],
   "source": [
    "df0.select('bbl', col('retailarea_diff').cast(DoubleType()))\\\n",
    "    .orderBy('retailarea_diff', ascending=False).show(5)"
   ]
  },
  {
   "cell_type": "code",
   "execution_count": 19,
   "metadata": {},
   "outputs": [
    {
     "name": "stdout",
     "output_type": "stream",
     "text": [
      "+----------+---------------+\n",
      "|       bbl|garagearea_diff|\n",
      "+----------+---------------+\n",
      "|4009260001|       368000.0|\n",
      "|2051410440|       311000.0|\n",
      "|2051350210|       296715.0|\n",
      "|1009910060|       294656.0|\n",
      "|1012640005|       255714.0|\n",
      "+----------+---------------+\n",
      "only showing top 5 rows\n",
      "\n"
     ]
    }
   ],
   "source": [
    "df0.select('bbl', col('garagearea_diff').cast(DoubleType()))\\\n",
    "    .orderBy('garagearea_diff', ascending=False).show(5)"
   ]
  },
  {
   "cell_type": "code",
   "execution_count": 20,
   "metadata": {},
   "outputs": [
    {
     "name": "stdout",
     "output_type": "stream",
     "text": [
      "+----------+---------------+\n",
      "|       bbl|factryarea_diff|\n",
      "+----------+---------------+\n",
      "|5017600035|       855000.0|\n",
      "|2026040252|       213776.0|\n",
      "|2027810500|       192933.0|\n",
      "|5070900001|       140830.0|\n",
      "|3053010001|       124954.0|\n",
      "+----------+---------------+\n",
      "only showing top 5 rows\n",
      "\n"
     ]
    }
   ],
   "source": [
    "df0.select('bbl', col('factryarea_diff').cast(DoubleType()))\\\n",
    "    .orderBy('factryarea_diff', ascending=False).show(5)"
   ]
  },
  {
   "cell_type": "code",
   "execution_count": 21,
   "metadata": {},
   "outputs": [
    {
     "name": "stdout",
     "output_type": "stream",
     "text": [
      "+----------+--------------+\n",
      "|       bbl|otherarea_diff|\n",
      "+----------+--------------+\n",
      "|4070210001|     4009138.0|\n",
      "|1007559040|     1378125.0|\n",
      "|1010870005|      749133.0|\n",
      "|3007150001|      679585.0|\n",
      "|5001020001|      510819.0|\n",
      "+----------+--------------+\n",
      "only showing top 5 rows\n",
      "\n"
     ]
    }
   ],
   "source": [
    "df0.select('bbl', col('otherarea_diff').cast(DoubleType()))\\\n",
    "    .orderBy('otherarea_diff', ascending=False).show(5)"
   ]
  }
 ],
 "metadata": {
  "kernelspec": {
   "display_name": "Python 3",
   "language": "python",
   "name": "python3"
  },
  "language_info": {
   "codemirror_mode": {
    "name": "ipython",
    "version": 3
   },
   "file_extension": ".py",
   "mimetype": "text/x-python",
   "name": "python",
   "nbconvert_exporter": "python",
   "pygments_lexer": "ipython3",
   "version": "3.7.1"
  }
 },
 "nbformat": 4,
 "nbformat_minor": 2
}
