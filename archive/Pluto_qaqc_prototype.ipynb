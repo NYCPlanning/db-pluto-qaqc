{
 "cells": [
  {
   "cell_type": "code",
   "execution_count": 1,
   "metadata": {},
   "outputs": [],
   "source": [
    "import sys, os\n",
    "import glob\n",
    "import subprocess\n",
    "import csv"
   ]
  },
  {
   "cell_type": "code",
   "execution_count": 10,
   "metadata": {},
   "outputs": [],
   "source": [
    "# list of versions: \n",
    "versions = ['18v1_1','18v1', '17v1_1', '17v1', '16v2']\n",
    "\n",
    "# key indicators we need in the following: \n",
    "sum_targets =['UnitsRes',\n",
    " 'LotArea',\n",
    " 'BldgArea',\n",
    " 'ComArea',\n",
    " 'ResArea',\n",
    " 'OfficeArea',\n",
    " 'RetailArea',\n",
    " 'GarageArea',\n",
    " 'StrgeArea',\n",
    " 'FactryArea',\n",
    " 'OtherArea',\n",
    " 'AssessLand',\n",
    " 'AssessTot',\n",
    " 'ExemptLand',\n",
    " 'ExemptTot',\n",
    " 'FIRM07_FLAG',\n",
    " 'PFIRM15_FLAG']\n",
    "\n",
    "sumproduct_targets = ['LotAreaXBuiltFAR', 'LotAreaXResidFAR',\n",
    "                     'LotAreaXCommFAR', 'LotAreaXFacilFAR']"
   ]
  },
  {
   "cell_type": "code",
   "execution_count": 16,
   "metadata": {},
   "outputs": [],
   "source": [
    "def download_unpack(version):\n",
    "    os.system('curl -O https://www1.nyc.gov/assets/planning/download/zip/data-maps/open-data/nyc_pluto_{}.zip'.format(version))\n",
    "    os.system('mkdir temp') \n",
    "    os.system(\"unzip nyc_pluto_{}.zip -d temp\".format(version))\n",
    "    \n",
    "    os.system('find . -mindepth 2 -type f -print -exec mv {} ./temp \\;') #flatten file structure \n",
    "    \n",
    "    csv_files = glob.glob( '*/**.csv' ) #list csv files for 5 boro\n",
    "    destination_file = os.getcwd()+'/temp/'+version+'.csv' \n",
    "    os.system('cat {} | head -n1 > {}'.format(csv_files[0], destination_file)) #write header into new file\n",
    "    \n",
    "    for i in csv_files: # concatenate into one file\n",
    "        os.system('cat {} | tail -n +2 >> {}'.format(i, destination_file))\n",
    "    \n",
    "    #reformating and get rid of quoted comma, e.g. \"XXX,LLC\" >> \"XXX LLC\"\n",
    "    #helps when using awk to generate summary statistics\n",
    "    return destination_file\n",
    "\n",
    "# def get_column_sum(target_column, csv_name, colnames_in_csv):\n",
    "    \n",
    "#     shell_index = colnames_in_csv.index(target_column)+1\n",
    "#     sub_cmd = '{{ sum += ${} }} END {{ print sum }}'.format(shell_index)\n",
    "#     column_sum = float(subprocess.check_output(['awk', '-F', ',', sub_cmd, csv_name]).rstrip())\n",
    "#     return column_sum\n",
    "\n",
    "# def get_column_sumproduct(target_columns, csv_name, colnames_in_csv):\n",
    "#     shell_index1 = colnames_in_csv.index(target_columns[0]) + 1\n",
    "#     shell_index2 = colnames_in_csv.index(target_columns[1]) + 1\n",
    "#     sub_cmd = '{{ sum += ${}*${} }} END {{ print sum }}'.format(shell_index1,shell_index2)\n",
    "#     column_sumproduct = float(subprocess.check_output(['awk', '-F', ',', sub_cmd, csv_name]).rstrip())\n",
    "#     return column_sumproduct\n",
    "\n",
    "# def create_report(csv_name):\n",
    "#     read_header_cmd = 'head -1 {}'.format(csv_name)\n",
    "#     colnames_in_csv = os.popen(read_header_cmd).readlines()[0].split(\",\")\n",
    "#     results = {}\n",
    "#     for i in sum_targets:\n",
    "#         try:\n",
    "#             results[i] = get_column_sum(i, csv_name, colnames_in_csv)\n",
    "#         except: \n",
    "#             results[i] = None\n",
    "#     for i in sumproduct_targets:\n",
    "#         try:\n",
    "#             results[i] = get_column_sumproduct(i.split('X'), csv_name, colnames_in_csv)\n",
    "#         except: \n",
    "#             results[i] = None\n",
    "#     return results\n",
    "    \n",
    "# def remove_temp():\n",
    "#     os.system('rm -r temp')"
   ]
  },
  {
   "cell_type": "code",
   "execution_count": 17,
   "metadata": {},
   "outputs": [],
   "source": [
    "# def get_results(version):\n",
    "#     file_dir = download_unpack(version)\n",
    "#     results = create_report(file_dir)\n",
    "#     results['version'] = version\n",
    "#     remove_temp()\n",
    "#     return results"
   ]
  },
  {
   "cell_type": "code",
   "execution_count": 18,
   "metadata": {},
   "outputs": [],
   "source": [
    "# results_all = []\n",
    "# results_all.append(get_results(versions[0]))\n",
    "# results_all.append(get_results(versions[1]))\n",
    "# results_all.append(get_results(versions[2]))\n",
    "# results_all.append(get_results(versions[3]))"
   ]
  },
  {
   "cell_type": "code",
   "execution_count": 16,
   "metadata": {},
   "outputs": [
    {
     "data": {
      "text/plain": [
       "[{'AssessLand': 97799178902.0,\n",
       "  'AssessTot': 395591819541.0,\n",
       "  'BldgArea': 5484764761.0,\n",
       "  'ComArea': 1816284054.0,\n",
       "  'ExemptLand': 44142267420.0,\n",
       "  'ExemptTot': 142207700881.0,\n",
       "  'FIRM07_FLAG': 34562.0,\n",
       "  'FactryArea': 116348116.0,\n",
       "  'GarageArea': 122406091.0,\n",
       "  'LotArea': 6815805618.0,\n",
       "  'LotAreaXBuiltFAR': 5448440000.0,\n",
       "  'LotAreaXCommFAR': 2865010000.0,\n",
       "  'LotAreaXFacilFAR': 12194400000.0,\n",
       "  'LotAreaXResidFAR': 6733100000.0,\n",
       "  'OfficeArea': 652968426.0,\n",
       "  'OtherArea': 524094223.0,\n",
       "  'PFIRM15_FLAG': 65618.0,\n",
       "  'ResArea': 3470204025.0,\n",
       "  'RetailArea': 276388698.0,\n",
       "  'StrgeArea': 102263027.0,\n",
       "  'UnitsRes': 3555871.0,\n",
       "  'version': '18v1'},\n",
       " {'AssessLand': 98224576045.0,\n",
       "  'AssessTot': 384628321597.0,\n",
       "  'BldgArea': 5464292625.0,\n",
       "  'ComArea': 1815463914.0,\n",
       "  'ExemptLand': 44924489457.0,\n",
       "  'ExemptTot': 147878647619.0,\n",
       "  'FIRM07_FLAG': 34569.0,\n",
       "  'FactryArea': 115617416.0,\n",
       "  'GarageArea': 122093670.0,\n",
       "  'LotArea': 6813540673.0,\n",
       "  'LotAreaXBuiltFAR': 5446580000.0,\n",
       "  'LotAreaXCommFAR': 2863380000.0,\n",
       "  'LotAreaXFacilFAR': 12167400000.0,\n",
       "  'LotAreaXResidFAR': 6685350000.0,\n",
       "  'OfficeArea': 649838284.0,\n",
       "  'OtherArea': 525410324.0,\n",
       "  'PFIRM15_FLAG': 65628.0,\n",
       "  'ResArea': 3449799196.0,\n",
       "  'RetailArea': 276187004.0,\n",
       "  'StrgeArea': 104659836.0,\n",
       "  'UnitsRes': 3535776.0,\n",
       "  'version': '17v1_1'},\n",
       " {'AssessLand': 98224576045.0,\n",
       "  'AssessTot': 384628321597.0,\n",
       "  'BldgArea': 5464292625.0,\n",
       "  'ComArea': 1815463914.0,\n",
       "  'ExemptLand': 44924489457.0,\n",
       "  'ExemptTot': 147878647619.0,\n",
       "  'FIRM07_FLAG': 2048.0,\n",
       "  'FactryArea': 115617416.0,\n",
       "  'GarageArea': 122093670.0,\n",
       "  'LotArea': 6813540673.0,\n",
       "  'LotAreaXBuiltFAR': 5446580000.0,\n",
       "  'LotAreaXCommFAR': 2863380000.0,\n",
       "  'LotAreaXFacilFAR': 12167400000.0,\n",
       "  'LotAreaXResidFAR': 6685350000.0,\n",
       "  'OfficeArea': 649838284.0,\n",
       "  'OtherArea': 525410324.0,\n",
       "  'PFIRM15_FLAG': 2048.0,\n",
       "  'ResArea': 3449799196.0,\n",
       "  'RetailArea': 276187004.0,\n",
       "  'StrgeArea': 104659836.0,\n",
       "  'UnitsRes': 3535776.0,\n",
       "  'version': '17v1'},\n",
       " {'AssessLand': 97023618177.0,\n",
       "  'AssessTot': 348859770144.0,\n",
       "  'BldgArea': 5472171155.0,\n",
       "  'ComArea': 1821572271.0,\n",
       "  'ExemptLand': 44499335818.0,\n",
       "  'ExemptTot': 131680113807.0,\n",
       "  'FIRM07_FLAG': None,\n",
       "  'FactryArea': 114600954.0,\n",
       "  'GarageArea': 120486798.0,\n",
       "  'LotArea': 6749805043.0,\n",
       "  'LotAreaXBuiltFAR': 5467190000.0,\n",
       "  'LotAreaXCommFAR': 2787560000.0,\n",
       "  'LotAreaXFacilFAR': 12148800000.0,\n",
       "  'LotAreaXResidFAR': 6673890000.0,\n",
       "  'OfficeArea': 649613905.0,\n",
       "  'OtherArea': 528382911.0,\n",
       "  'PFIRM15_FLAG': None,\n",
       "  'ResArea': 3487349865.0,\n",
       "  'RetailArea': 276806693.0,\n",
       "  'StrgeArea': 109234535.0,\n",
       "  'UnitsRes': 3518812.0,\n",
       "  'version': '16v2'}]"
      ]
     },
     "execution_count": 16,
     "metadata": {},
     "output_type": "execute_result"
    }
   ],
   "source": [
    "results_all"
   ]
  },
  {
   "cell_type": "code",
   "execution_count": 20,
   "metadata": {},
   "outputs": [
    {
     "name": "stdout",
     "output_type": "stream",
     "text": [
      "  % Total    % Received % Xferd  Average Speed   Time    Time     Time  Current\n",
      "                                 Dload  Upload   Total   Spent    Left  Speed\n",
      "100 72.6M  100 72.6M    0     0  1678k      0  0:00:44  0:00:44 --:--:-- 1236k\n"
     ]
    }
   ],
   "source": [
    "! curl -O https://www1.nyc.gov/assets/planning/download/zip/data-maps/open-data/nyc_pluto_18v1_1_csv.zip"
   ]
  },
  {
   "cell_type": "code",
   "execution_count": null,
   "metadata": {},
   "outputs": [],
   "source": [
    "csv_files = glob.glob( '*/**.csv' ) #list csv files for 5 boro\n",
    "    destination_file = os.getcwd()+'/temp/'+version+'.csv' \n",
    "    os.system('cat {} | head -n1 > {}'.format(csv_files[0], destination_file)) #write header into new file"
   ]
  }
 ],
 "metadata": {
  "kernelspec": {
   "display_name": "Python 2",
   "language": "python",
   "name": "python2"
  },
  "language_info": {
   "codemirror_mode": {
    "name": "ipython",
    "version": 3
   },
   "file_extension": ".py",
   "mimetype": "text/x-python",
   "name": "python",
   "nbconvert_exporter": "python",
   "pygments_lexer": "ipython3",
   "version": "3.7.1"
  }
 },
 "nbformat": 4,
 "nbformat_minor": 2
}
