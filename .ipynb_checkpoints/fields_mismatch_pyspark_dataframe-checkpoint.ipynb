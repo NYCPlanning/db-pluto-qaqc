{
 "cells": [
  {
   "cell_type": "code",
   "execution_count": 2,
   "metadata": {},
   "outputs": [],
   "source": [
    "from pyspark.sql.functions import mean, udf, col\n",
    "import pandas as pd\n",
    "import time"
   ]
  },
  {
   "cell_type": "markdown",
   "metadata": {},
   "source": [
    "## import csv files into spark dataframes\n",
    "Note: both files contain records from all 5 boroughs"
   ]
  },
  {
   "cell_type": "code",
   "execution_count": 3,
   "metadata": {},
   "outputs": [],
   "source": [
    "df18v11 = spark.read.csv('test_data/dcp_pluto_18v11.csv', header=True)\n",
    "df18v1 = spark.read.csv('test_data/18v1.csv', header=True)"
   ]
  },
  {
   "cell_type": "markdown",
   "metadata": {},
   "source": [
    "## Change column names and joining dataframes\n",
    "* since we are doing column comparison, we need to the column names of one df to avoid confusion\n",
    "* in this case, we add \"_1\"_ to the name, e.g. \"BBL\" ==> \"BBL_1\"\n",
    "* here we are doing an inner join because we only care about the BBL's that apeared in both dataframes"
   ]
  },
  {
   "cell_type": "code",
   "execution_count": 4,
   "metadata": {},
   "outputs": [],
   "source": [
    "df18v11 = df18v11.select([col(A).alias(A+'_1') for A in df18v11.schema.names])"
   ]
  },
  {
   "cell_type": "code",
   "execution_count": 8,
   "metadata": {},
   "outputs": [],
   "source": [
    "df18v1_names = df18v1.schema.names\n",
    "df18v11_names = df18v11.schema.names\n",
    "colnames = zip(df18v1_names, df18v11_names)"
   ]
  },
  {
   "cell_type": "code",
   "execution_count": 9,
   "metadata": {},
   "outputs": [],
   "source": [
    "df18 = df18v1.join(df18v11, df18v1['BBL'] == df18v11['bbl_1'])"
   ]
  },
  {
   "cell_type": "markdown",
   "metadata": {},
   "source": [
    "## Create UDF (user defined function) for column comparison\n",
    "* by doing ```@udf``` decorator, we are basically telling spark to optimize this function for column wise paralellized operations (it's a black box to me) "
   ]
  },
  {
   "cell_type": "code",
   "execution_count": 6,
   "metadata": {},
   "outputs": [],
   "source": [
    "@udf\n",
    "def compare(col1,col2):\n",
    "    if col1!=col2:\n",
    "        return 1\n",
    "    else:\n",
    "        return 0"
   ]
  },
  {
   "cell_type": "markdown",
   "metadata": {},
   "source": [
    "## Generate results\n",
    "1. generate the mismatch dummy column \n",
    "2. get rid of the original valued columns\n",
    "3. calculate the mean (in this case represents the percentage of mismatches) and produce output"
   ]
  },
  {
   "cell_type": "code",
   "execution_count": 7,
   "metadata": {},
   "outputs": [],
   "source": [
    "spark.sql('set spark.sql.caseSensitive=true')\n",
    "for A,B in colnames:\n",
    "    df18 = df18.withColumn(A+'%', compare(col(A),col(B)))\\\n",
    "               .drop(A,B)\n",
    "results = df18.select(*[mean(col(A)).alias(A) for A in df18.schema.names])"
   ]
  },
  {
   "cell_type": "markdown",
   "metadata": {},
   "source": [
    "## Convert spark dataframe to pandas dataframe \n",
    "so we can easily export as a csv or conduct further analysis/visualizations"
   ]
  },
  {
   "cell_type": "code",
   "execution_count": 8,
   "metadata": {},
   "outputs": [],
   "source": [
    "start_time = time.time()\n",
    "results_df = results.toPandas()\n",
    "elapsed_time = time.time() - start_time"
   ]
  },
  {
   "cell_type": "code",
   "execution_count": 9,
   "metadata": {},
   "outputs": [
    {
     "data": {
      "text/html": [
       "<div>\n",
       "<style scoped>\n",
       "    .dataframe tbody tr th:only-of-type {\n",
       "        vertical-align: middle;\n",
       "    }\n",
       "\n",
       "    .dataframe tbody tr th {\n",
       "        vertical-align: top;\n",
       "    }\n",
       "\n",
       "    .dataframe thead th {\n",
       "        text-align: right;\n",
       "    }\n",
       "</style>\n",
       "<table border=\"1\" class=\"dataframe\">\n",
       "  <thead>\n",
       "    <tr style=\"text-align: right;\">\n",
       "      <th></th>\n",
       "      <th>Borough%</th>\n",
       "      <th>Block%</th>\n",
       "      <th>Lot%</th>\n",
       "      <th>CD%</th>\n",
       "      <th>CT2010%</th>\n",
       "      <th>CB2010%</th>\n",
       "      <th>SchoolDist%</th>\n",
       "      <th>Council%</th>\n",
       "      <th>ZipCode%</th>\n",
       "      <th>FireComp%</th>\n",
       "      <th>...</th>\n",
       "      <th>ZMCode%</th>\n",
       "      <th>Sanborn%</th>\n",
       "      <th>TaxMap%</th>\n",
       "      <th>EDesigNum%</th>\n",
       "      <th>APPBBL%</th>\n",
       "      <th>APPDate%</th>\n",
       "      <th>PLUTOMapID%</th>\n",
       "      <th>FIRM07_FLAG%</th>\n",
       "      <th>PFIRM15_FLAG%</th>\n",
       "      <th>Version%</th>\n",
       "    </tr>\n",
       "  </thead>\n",
       "  <tbody>\n",
       "    <tr>\n",
       "      <th>0</th>\n",
       "      <td>0.0</td>\n",
       "      <td>0.0</td>\n",
       "      <td>0.0</td>\n",
       "      <td>0.0</td>\n",
       "      <td>0.0</td>\n",
       "      <td>0.0</td>\n",
       "      <td>0.0</td>\n",
       "      <td>0.0</td>\n",
       "      <td>0.0</td>\n",
       "      <td>0.0</td>\n",
       "      <td>...</td>\n",
       "      <td>0.000867</td>\n",
       "      <td>0.0</td>\n",
       "      <td>0.0</td>\n",
       "      <td>0.0</td>\n",
       "      <td>0.0</td>\n",
       "      <td>0.0</td>\n",
       "      <td>0.0</td>\n",
       "      <td>0.0</td>\n",
       "      <td>0.0</td>\n",
       "      <td>1.0</td>\n",
       "    </tr>\n",
       "  </tbody>\n",
       "</table>\n",
       "<p>1 rows × 87 columns</p>\n",
       "</div>"
      ],
      "text/plain": [
       "   Borough%  Block%  Lot%  CD%  CT2010%  CB2010%  SchoolDist%  Council%  \\\n",
       "0       0.0     0.0   0.0  0.0      0.0      0.0          0.0       0.0   \n",
       "\n",
       "   ZipCode%  FireComp%    ...      ZMCode%  Sanborn%  TaxMap%  EDesigNum%  \\\n",
       "0       0.0        0.0    ...     0.000867       0.0      0.0         0.0   \n",
       "\n",
       "   APPBBL%  APPDate%  PLUTOMapID%  FIRM07_FLAG%  PFIRM15_FLAG%  Version%  \n",
       "0      0.0       0.0          0.0           0.0            0.0       1.0  \n",
       "\n",
       "[1 rows x 87 columns]"
      ]
     },
     "execution_count": 9,
     "metadata": {},
     "output_type": "execute_result"
    }
   ],
   "source": [
    "results_df"
   ]
  },
  {
   "cell_type": "code",
   "execution_count": 10,
   "metadata": {},
   "outputs": [
    {
     "data": {
      "text/plain": [
       "140.76924014091492"
      ]
     },
     "execution_count": 10,
     "metadata": {},
     "output_type": "execute_result"
    }
   ],
   "source": [
    "elapsed_time"
   ]
  }
 ],
 "metadata": {
  "kernelspec": {
   "display_name": "Python 3",
   "language": "python",
   "name": "python3"
  },
  "language_info": {
   "codemirror_mode": {
    "name": "ipython",
    "version": 3
   },
   "file_extension": ".py",
   "mimetype": "text/x-python",
   "name": "python",
   "nbconvert_exporter": "python",
   "pygments_lexer": "ipython3",
   "version": "3.7.1"
  }
 },
 "nbformat": 4,
 "nbformat_minor": 2
}
