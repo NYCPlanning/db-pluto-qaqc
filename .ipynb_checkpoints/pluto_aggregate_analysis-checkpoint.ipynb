{
 "cells": [
  {
   "cell_type": "code",
   "execution_count": 1,
   "metadata": {},
   "outputs": [],
   "source": [
    "from pyspark.sql.functions import randn, rand, sum, col, round\n",
    "import numpy as np\n",
    "import time\n",
    "import pandas as pd\n",
    "import matplotlib.pyplot as plt"
   ]
  },
  {
   "cell_type": "markdown",
   "metadata": {},
   "source": [
    "### Import Data"
   ]
  },
  {
   "cell_type": "code",
   "execution_count": 2,
   "metadata": {},
   "outputs": [],
   "source": [
    "df18v1 = spark.read.csv('data/pluto_18v1.csv', header=True)\n",
    "df18v2 = spark.read.csv('data/pluto.csv', header=True)\n",
    "df17v11 = spark.read.csv('data/pluto_17v11.csv', header=True)"
   ]
  },
  {
   "cell_type": "markdown",
   "metadata": {},
   "source": [
    "### convert column names all to lower case"
   ]
  },
  {
   "cell_type": "code",
   "execution_count": 3,
   "metadata": {},
   "outputs": [],
   "source": [
    "df18v1 = df18v1.select([col(A).alias(A.lower()) for A in df18v1.schema.names])\n",
    "df18v2 = df18v2.select([col(A).alias(A.lower()) for A in df18v2.schema.names])\n",
    "df17v11 = df17v11.select([col(A).alias(A.lower()) for A in df17v11.schema.names])"
   ]
  },
  {
   "cell_type": "code",
   "execution_count": 4,
   "metadata": {},
   "outputs": [],
   "source": [
    "cols = df18v1.columns"
   ]
  },
  {
   "cell_type": "code",
   "execution_count": 5,
   "metadata": {},
   "outputs": [],
   "source": [
    "df18v1 = df18v1.select(cols)\n",
    "df18v2 = df18v2.select(cols)\n",
    "df17v11 = df17v11.select(cols)"
   ]
  },
  {
   "cell_type": "code",
   "execution_count": 6,
   "metadata": {},
   "outputs": [],
   "source": [
    "df =df18v1.union(df18v2).union(df17v11)"
   ]
  },
  {
   "cell_type": "code",
   "execution_count": 7,
   "metadata": {},
   "outputs": [],
   "source": [
    "start_time = time.time()\n",
    "summary = df.groupBy(\"version\").agg(sum(\"unitsres\"),\n",
    "                                    sum(\"lotarea\"),\n",
    "                                    sum(\"bldgarea\"),\n",
    "                                    sum(\"comarea\"),\n",
    "                                    sum(\"resarea\"),\n",
    "                                    sum(\"officearea\"),\n",
    "                                    sum(\"retailarea\"),\n",
    "                                    sum(\"garagearea\"),\n",
    "                                    sum(\"strgearea\"),\n",
    "                                    sum(\"factryarea\"),\n",
    "                                    sum(\"otherarea\"),\n",
    "                                    sum(\"assessland\"),\n",
    "                                    sum(\"assesstot\"),\n",
    "                                    sum(\"exemptland\"),\n",
    "                                    sum(\"exempttot\"),\n",
    "                                    sum(\"firm07_flag\"),\n",
    "                                    sum(\"pfirm15_flag\")).toPandas()\n",
    "elapsed_time = time.time() - start_time"
   ]
  },
  {
   "cell_type": "code",
   "execution_count": 8,
   "metadata": {},
   "outputs": [
    {
     "data": {
      "text/plain": [
       "50.75969099998474"
      ]
     },
     "execution_count": 8,
     "metadata": {},
     "output_type": "execute_result"
    }
   ],
   "source": [
    "elapsed_time"
   ]
  },
  {
   "cell_type": "code",
   "execution_count": 9,
   "metadata": {},
   "outputs": [],
   "source": [
    "agg_cols = ['version','UnitsRes','LotArea','BldgArea','ComArea',\n",
    " 'ResArea','OfficeArea','RetailArea','GarageArea',\n",
    " 'StrgeArea','FactryArea','OtherArea','AssessLand',\n",
    " 'AssessTot','ExemptLand','ExemptTot','FIRM07_FLAG',\n",
    " 'PFIRM15_FLAG']"
   ]
  },
  {
   "cell_type": "code",
   "execution_count": 10,
   "metadata": {},
   "outputs": [],
   "source": [
    "summary.columns = agg_cols"
   ]
  },
  {
   "cell_type": "code",
   "execution_count": 11,
   "metadata": {},
   "outputs": [],
   "source": [
    "summary.to_csv('aggregate_value.csv')"
   ]
  },
  {
   "cell_type": "code",
   "execution_count": 12,
   "metadata": {},
   "outputs": [],
   "source": [
    "summary.index = summary.version\n",
    "summary = summary.reindex(['18v2', '18V1', '17v1.1'])"
   ]
  },
  {
   "cell_type": "code",
   "execution_count": 13,
   "metadata": {},
   "outputs": [
    {
     "data": {
      "text/html": [
       "<div>\n",
       "<style scoped>\n",
       "    .dataframe tbody tr th:only-of-type {\n",
       "        vertical-align: middle;\n",
       "    }\n",
       "\n",
       "    .dataframe tbody tr th {\n",
       "        vertical-align: top;\n",
       "    }\n",
       "\n",
       "    .dataframe thead th {\n",
       "        text-align: right;\n",
       "    }\n",
       "</style>\n",
       "<table border=\"1\" class=\"dataframe\">\n",
       "  <thead>\n",
       "    <tr style=\"text-align: right;\">\n",
       "      <th></th>\n",
       "      <th>version</th>\n",
       "      <th>UnitsRes</th>\n",
       "      <th>LotArea</th>\n",
       "      <th>BldgArea</th>\n",
       "      <th>ComArea</th>\n",
       "      <th>ResArea</th>\n",
       "      <th>OfficeArea</th>\n",
       "      <th>RetailArea</th>\n",
       "      <th>GarageArea</th>\n",
       "      <th>StrgeArea</th>\n",
       "      <th>FactryArea</th>\n",
       "      <th>OtherArea</th>\n",
       "      <th>AssessLand</th>\n",
       "      <th>AssessTot</th>\n",
       "      <th>ExemptLand</th>\n",
       "      <th>ExemptTot</th>\n",
       "      <th>FIRM07_FLAG</th>\n",
       "      <th>PFIRM15_FLAG</th>\n",
       "    </tr>\n",
       "    <tr>\n",
       "      <th>version</th>\n",
       "      <th></th>\n",
       "      <th></th>\n",
       "      <th></th>\n",
       "      <th></th>\n",
       "      <th></th>\n",
       "      <th></th>\n",
       "      <th></th>\n",
       "      <th></th>\n",
       "      <th></th>\n",
       "      <th></th>\n",
       "      <th></th>\n",
       "      <th></th>\n",
       "      <th></th>\n",
       "      <th></th>\n",
       "      <th></th>\n",
       "      <th></th>\n",
       "      <th></th>\n",
       "      <th></th>\n",
       "    </tr>\n",
       "  </thead>\n",
       "  <tbody>\n",
       "    <tr>\n",
       "      <th>18v2</th>\n",
       "      <td>18v2</td>\n",
       "      <td>3548500.0</td>\n",
       "      <td>6.662078e+09</td>\n",
       "      <td>5.605946e+09</td>\n",
       "      <td>1.820455e+09</td>\n",
       "      <td>3.477582e+09</td>\n",
       "      <td>654410227.0</td>\n",
       "      <td>276896354.0</td>\n",
       "      <td>120942956.0</td>\n",
       "      <td>100257225.0</td>\n",
       "      <td>116612843.0</td>\n",
       "      <td>524200834.0</td>\n",
       "      <td>9.686701e+10</td>\n",
       "      <td>3.907420e+11</td>\n",
       "      <td>4.388102e+10</td>\n",
       "      <td>1.426459e+11</td>\n",
       "      <td>34683.0</td>\n",
       "      <td>65688.0</td>\n",
       "    </tr>\n",
       "    <tr>\n",
       "      <th>18V1</th>\n",
       "      <td>18V1</td>\n",
       "      <td>3555871.0</td>\n",
       "      <td>6.815806e+09</td>\n",
       "      <td>5.484765e+09</td>\n",
       "      <td>1.816284e+09</td>\n",
       "      <td>3.470204e+09</td>\n",
       "      <td>652968426.0</td>\n",
       "      <td>276388698.0</td>\n",
       "      <td>122406091.0</td>\n",
       "      <td>102263027.0</td>\n",
       "      <td>116348116.0</td>\n",
       "      <td>524094223.0</td>\n",
       "      <td>9.779918e+10</td>\n",
       "      <td>3.955918e+11</td>\n",
       "      <td>4.414227e+10</td>\n",
       "      <td>1.422077e+11</td>\n",
       "      <td>34562.0</td>\n",
       "      <td>65618.0</td>\n",
       "    </tr>\n",
       "    <tr>\n",
       "      <th>17v1.1</th>\n",
       "      <td>17v1.1</td>\n",
       "      <td>3535776.0</td>\n",
       "      <td>6.813541e+09</td>\n",
       "      <td>5.464293e+09</td>\n",
       "      <td>1.815464e+09</td>\n",
       "      <td>3.449799e+09</td>\n",
       "      <td>649838284.0</td>\n",
       "      <td>276187004.0</td>\n",
       "      <td>122093670.0</td>\n",
       "      <td>104659836.0</td>\n",
       "      <td>115617416.0</td>\n",
       "      <td>525410324.0</td>\n",
       "      <td>9.822458e+10</td>\n",
       "      <td>3.846283e+11</td>\n",
       "      <td>4.492449e+10</td>\n",
       "      <td>1.478786e+11</td>\n",
       "      <td>34569.0</td>\n",
       "      <td>65628.0</td>\n",
       "    </tr>\n",
       "  </tbody>\n",
       "</table>\n",
       "</div>"
      ],
      "text/plain": [
       "        version   UnitsRes       LotArea      BldgArea       ComArea  \\\n",
       "version                                                                \n",
       "18v2       18v2  3548500.0  6.662078e+09  5.605946e+09  1.820455e+09   \n",
       "18V1       18V1  3555871.0  6.815806e+09  5.484765e+09  1.816284e+09   \n",
       "17v1.1   17v1.1  3535776.0  6.813541e+09  5.464293e+09  1.815464e+09   \n",
       "\n",
       "              ResArea   OfficeArea   RetailArea   GarageArea    StrgeArea  \\\n",
       "version                                                                     \n",
       "18v2     3.477582e+09  654410227.0  276896354.0  120942956.0  100257225.0   \n",
       "18V1     3.470204e+09  652968426.0  276388698.0  122406091.0  102263027.0   \n",
       "17v1.1   3.449799e+09  649838284.0  276187004.0  122093670.0  104659836.0   \n",
       "\n",
       "          FactryArea    OtherArea    AssessLand     AssessTot    ExemptLand  \\\n",
       "version                                                                       \n",
       "18v2     116612843.0  524200834.0  9.686701e+10  3.907420e+11  4.388102e+10   \n",
       "18V1     116348116.0  524094223.0  9.779918e+10  3.955918e+11  4.414227e+10   \n",
       "17v1.1   115617416.0  525410324.0  9.822458e+10  3.846283e+11  4.492449e+10   \n",
       "\n",
       "            ExemptTot  FIRM07_FLAG  PFIRM15_FLAG  \n",
       "version                                           \n",
       "18v2     1.426459e+11      34683.0       65688.0  \n",
       "18V1     1.422077e+11      34562.0       65618.0  \n",
       "17v1.1   1.478786e+11      34569.0       65628.0  "
      ]
     },
     "execution_count": 13,
     "metadata": {},
     "output_type": "execute_result"
    }
   ],
   "source": [
    "summary"
   ]
  },
  {
   "cell_type": "code",
   "execution_count": 14,
   "metadata": {},
   "outputs": [],
   "source": [
    "summary_pct = summary.iloc[:, 1:].pct_change()"
   ]
  },
  {
   "cell_type": "code",
   "execution_count": 15,
   "metadata": {},
   "outputs": [
    {
     "data": {
      "text/html": [
       "<div>\n",
       "<style scoped>\n",
       "    .dataframe tbody tr th:only-of-type {\n",
       "        vertical-align: middle;\n",
       "    }\n",
       "\n",
       "    .dataframe tbody tr th {\n",
       "        vertical-align: top;\n",
       "    }\n",
       "\n",
       "    .dataframe thead th {\n",
       "        text-align: right;\n",
       "    }\n",
       "</style>\n",
       "<table border=\"1\" class=\"dataframe\">\n",
       "  <thead>\n",
       "    <tr style=\"text-align: right;\">\n",
       "      <th></th>\n",
       "      <th>UnitsRes</th>\n",
       "      <th>LotArea</th>\n",
       "      <th>BldgArea</th>\n",
       "      <th>ComArea</th>\n",
       "      <th>ResArea</th>\n",
       "      <th>OfficeArea</th>\n",
       "      <th>RetailArea</th>\n",
       "      <th>GarageArea</th>\n",
       "      <th>StrgeArea</th>\n",
       "      <th>FactryArea</th>\n",
       "      <th>OtherArea</th>\n",
       "      <th>AssessLand</th>\n",
       "      <th>AssessTot</th>\n",
       "      <th>ExemptLand</th>\n",
       "      <th>ExemptTot</th>\n",
       "      <th>FIRM07_FLAG</th>\n",
       "      <th>PFIRM15_FLAG</th>\n",
       "    </tr>\n",
       "    <tr>\n",
       "      <th>version</th>\n",
       "      <th></th>\n",
       "      <th></th>\n",
       "      <th></th>\n",
       "      <th></th>\n",
       "      <th></th>\n",
       "      <th></th>\n",
       "      <th></th>\n",
       "      <th></th>\n",
       "      <th></th>\n",
       "      <th></th>\n",
       "      <th></th>\n",
       "      <th></th>\n",
       "      <th></th>\n",
       "      <th></th>\n",
       "      <th></th>\n",
       "      <th></th>\n",
       "      <th></th>\n",
       "    </tr>\n",
       "  </thead>\n",
       "  <tbody>\n",
       "    <tr>\n",
       "      <th>18v2</th>\n",
       "      <td>NaN</td>\n",
       "      <td>NaN</td>\n",
       "      <td>NaN</td>\n",
       "      <td>NaN</td>\n",
       "      <td>NaN</td>\n",
       "      <td>NaN</td>\n",
       "      <td>NaN</td>\n",
       "      <td>NaN</td>\n",
       "      <td>NaN</td>\n",
       "      <td>NaN</td>\n",
       "      <td>NaN</td>\n",
       "      <td>NaN</td>\n",
       "      <td>NaN</td>\n",
       "      <td>NaN</td>\n",
       "      <td>NaN</td>\n",
       "      <td>NaN</td>\n",
       "      <td>NaN</td>\n",
       "    </tr>\n",
       "    <tr>\n",
       "      <th>18V1</th>\n",
       "      <td>0.002077</td>\n",
       "      <td>0.023075</td>\n",
       "      <td>-0.021616</td>\n",
       "      <td>-0.002291</td>\n",
       "      <td>-0.002122</td>\n",
       "      <td>-0.002203</td>\n",
       "      <td>-0.001833</td>\n",
       "      <td>0.012098</td>\n",
       "      <td>0.020007</td>\n",
       "      <td>-0.00227</td>\n",
       "      <td>-0.000203</td>\n",
       "      <td>0.009623</td>\n",
       "      <td>0.012412</td>\n",
       "      <td>0.005954</td>\n",
       "      <td>-0.003072</td>\n",
       "      <td>-0.003489</td>\n",
       "      <td>-0.001066</td>\n",
       "    </tr>\n",
       "    <tr>\n",
       "      <th>17v1.1</th>\n",
       "      <td>-0.005651</td>\n",
       "      <td>-0.000332</td>\n",
       "      <td>-0.003733</td>\n",
       "      <td>-0.000452</td>\n",
       "      <td>-0.005880</td>\n",
       "      <td>-0.004794</td>\n",
       "      <td>-0.000730</td>\n",
       "      <td>-0.002552</td>\n",
       "      <td>0.023438</td>\n",
       "      <td>-0.00628</td>\n",
       "      <td>0.002511</td>\n",
       "      <td>0.004350</td>\n",
       "      <td>-0.027714</td>\n",
       "      <td>0.017720</td>\n",
       "      <td>0.039878</td>\n",
       "      <td>0.000203</td>\n",
       "      <td>0.000152</td>\n",
       "    </tr>\n",
       "  </tbody>\n",
       "</table>\n",
       "</div>"
      ],
      "text/plain": [
       "         UnitsRes   LotArea  BldgArea   ComArea   ResArea  OfficeArea  \\\n",
       "version                                                                 \n",
       "18v2          NaN       NaN       NaN       NaN       NaN         NaN   \n",
       "18V1     0.002077  0.023075 -0.021616 -0.002291 -0.002122   -0.002203   \n",
       "17v1.1  -0.005651 -0.000332 -0.003733 -0.000452 -0.005880   -0.004794   \n",
       "\n",
       "         RetailArea  GarageArea  StrgeArea  FactryArea  OtherArea  AssessLand  \\\n",
       "version                                                                         \n",
       "18v2            NaN         NaN        NaN         NaN        NaN         NaN   \n",
       "18V1      -0.001833    0.012098   0.020007    -0.00227  -0.000203    0.009623   \n",
       "17v1.1    -0.000730   -0.002552   0.023438    -0.00628   0.002511    0.004350   \n",
       "\n",
       "         AssessTot  ExemptLand  ExemptTot  FIRM07_FLAG  PFIRM15_FLAG  \n",
       "version                                                               \n",
       "18v2           NaN         NaN        NaN          NaN           NaN  \n",
       "18V1      0.012412    0.005954  -0.003072    -0.003489     -0.001066  \n",
       "17v1.1   -0.027714    0.017720   0.039878     0.000203      0.000152  "
      ]
     },
     "execution_count": 15,
     "metadata": {},
     "output_type": "execute_result"
    }
   ],
   "source": [
    "summary_pct"
   ]
  },
  {
   "cell_type": "code",
   "execution_count": 17,
   "metadata": {},
   "outputs": [
    {
     "data": {
      "image/png": "[encoded data removed]",
      "text/plain": [
       "<Figure size 1080x720 with 1 Axes>"
      ]
     },
     "metadata": {
      "needs_background": "light"
     },
     "output_type": "display_data"
    }
   ],
   "source": [
    "plt.figure(figsize=(15, 10))\n",
    "plt.plot(range(17), -summary_pct.iloc[1, :], color = 'blue', label='18v1_18v2')\n",
    "plt.plot(range(17), -summary_pct.iloc[2, :], color = 'red', label='17v11_18v1')\n",
    "plt.hlines(0, 0, 17, color = 'black')\n",
    "for i in range(17):\n",
    "    plt.vlines(i, min(-summary_pct.iloc[2, :]), max(-summary_pct.iloc[2, :]), color = '#e1e9f7', linestyles='dashed')\n",
    "plt.xticks(range(17), summary_pct.columns, rotation=70)\n",
    "plt.title('18v2_18v1_17v11 Aggregated Value Comparison')\n",
    "plt.legend()\n",
    "plt.savefig('18v2_18v1_17v11_Aggregated_Value_Comparison.png', bbox_inches='tight')\n",
    "plt.show()"
   ]
  },
  {
   "cell_type": "code",
   "execution_count": null,
   "metadata": {},
   "outputs": [],
   "source": []
  }
 ],
 "metadata": {
  "kernelspec": {
   "display_name": "Python 3",
   "language": "python",
   "name": "python3"
  },
  "language_info": {
   "codemirror_mode": {
    "name": "ipython",
    "version": 3
   },
   "file_extension": ".py",
   "mimetype": "text/x-python",
   "name": "python",
   "nbconvert_exporter": "python",
   "pygments_lexer": "ipython3",
   "version": "3.7.1"
  }
 },
 "nbformat": 4,
 "nbformat_minor": 2
}
