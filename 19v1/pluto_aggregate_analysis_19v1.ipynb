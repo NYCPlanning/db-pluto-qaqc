{
 "cells": [
  {
   "cell_type": "code",
   "execution_count": 1,
   "metadata": {},
   "outputs": [
    {
     "name": "stdout",
     "output_type": "stream",
     "text": [
      "2019-05-29 17:58:02.235208\n"
     ]
    }
   ],
   "source": [
    "from pyspark.sql.functions import randn, rand, sum, col, round\n",
    "from pyspark.context import SparkContext\n",
    "from pyspark.sql.session import SparkSession\n",
    "import numpy as np\n",
    "import time\n",
    "import pandas as pd\n",
    "import datetime \n",
    "print(datetime.datetime.now())\n",
    "import matplotlib.pyplot as plt\n",
    "\n",
    "sc = SparkContext('local')\n",
    "spark = SparkSession(sc)"
   ]
  },
  {
   "cell_type": "markdown",
   "metadata": {},
   "source": [
    "### Import Data"
   ]
  },
  {
   "cell_type": "code",
   "execution_count": 2,
   "metadata": {},
   "outputs": [],
   "source": [
    "BK = spark.read.csv('data/18v1/BK_18v1.csv', header=True)\n",
    "BX = spark.read.csv('data/18v1/BX_18v1.csv', header=True)\n",
    "MN = spark.read.csv('data/18v1/MN_18v1.csv', header=True)\n",
    "QN = spark.read.csv('data/18v1/QN_18v1.csv', header=True)\n",
    "SI = spark.read.csv('data/18v1/SI_18v1.csv', header=True)\n",
    "\n",
    "df19v1 = spark.read.csv('data/pluto_19v1.csv', header=True)\n",
    "df18v2 = spark.read.csv('data/pluto_18v2_1.csv', header=True)\n",
    "df18v1 = BK.union(BX).union(MN).union(QN).union(SI)"
   ]
  },
  {
   "cell_type": "markdown",
   "metadata": {},
   "source": [
    "### convert column names all to lower case"
   ]
  },
  {
   "cell_type": "code",
   "execution_count": 3,
   "metadata": {},
   "outputs": [],
   "source": [
    "df18v1 = df18v1.select([col(A).alias(A.lower()) for A in df18v1.schema.names])\n",
    "df18v2 = df18v2.select([col(A).alias(A.lower()) for A in df18v2.schema.names])\n",
    "df19v1 = df19v1.select([col(A).alias(A.lower()) for A in df19v1.schema.names])"
   ]
  },
  {
   "cell_type": "code",
   "execution_count": 4,
   "metadata": {},
   "outputs": [],
   "source": [
    "cols = df18v1.columns"
   ]
  },
  {
   "cell_type": "code",
   "execution_count": 5,
   "metadata": {},
   "outputs": [],
   "source": [
    "df18v1 = df18v1.select(cols)\n",
    "df18v2 = df18v2.select(cols)\n",
    "df19v1 = df19v1.select(cols)"
   ]
  },
  {
   "cell_type": "code",
   "execution_count": 22,
   "metadata": {},
   "outputs": [],
   "source": [
    "df =df19v1.union(df18v2).union(df18v1)"
   ]
  },
  {
   "cell_type": "code",
   "execution_count": 23,
   "metadata": {},
   "outputs": [],
   "source": [
    "start_time = time.time()\n",
    "summary = df.groupBy(\"version\").agg(sum(\"unitsres\"),\n",
    "                                    sum(\"lotarea\"),\n",
    "                                    sum(\"bldgarea\"),\n",
    "                                    sum(\"comarea\"),\n",
    "                                    sum(\"resarea\"),\n",
    "                                    sum(\"officearea\"),\n",
    "                                    sum(\"retailarea\"),\n",
    "                                    sum(\"garagearea\"),\n",
    "                                    sum(\"strgearea\"),\n",
    "                                    sum(\"factryarea\"),\n",
    "                                    sum(\"otherarea\"),\n",
    "                                    sum(\"assessland\"),\n",
    "                                    sum(\"assesstot\"),\n",
    "                                    sum(\"exemptland\"),\n",
    "                                    sum(\"exempttot\"),\n",
    "                                    sum(\"firm07_flag\"),\n",
    "                                    sum(\"pfirm15_flag\")).toPandas()\n",
    "elapsed_time = time.time() - start_time"
   ]
  },
  {
   "cell_type": "code",
   "execution_count": 24,
   "metadata": {},
   "outputs": [
    {
     "data": {
      "text/plain": [
       "60.358927965164185"
      ]
     },
     "execution_count": 24,
     "metadata": {},
     "output_type": "execute_result"
    }
   ],
   "source": [
    "elapsed_time"
   ]
  },
  {
   "cell_type": "code",
   "execution_count": 25,
   "metadata": {},
   "outputs": [],
   "source": [
    "agg_cols = ['version','UnitsRes','LotArea','BldgArea','ComArea',\n",
    " 'ResArea','OfficeArea','RetailArea','GarageArea',\n",
    " 'StrgeArea','FactryArea','OtherArea','AssessLand',\n",
    " 'AssessTot','ExemptLand','ExemptTot','FIRM07_FLAG',\n",
    " 'PFIRM15_FLAG']"
   ]
  },
  {
   "cell_type": "code",
   "execution_count": 26,
   "metadata": {},
   "outputs": [],
   "source": [
    "summary.columns = agg_cols"
   ]
  },
  {
   "cell_type": "code",
   "execution_count": 27,
   "metadata": {},
   "outputs": [],
   "source": [
    "summary.to_csv('aggregate_value.csv')"
   ]
  },
  {
   "cell_type": "code",
   "execution_count": 28,
   "metadata": {},
   "outputs": [],
   "source": [
    "summary.index = summary.version\n",
    "summary = summary.reindex(['19v1', '18V2', '18v1'])"
   ]
  },
  {
   "cell_type": "code",
   "execution_count": 29,
   "metadata": {},
   "outputs": [
    {
     "data": {
      "text/html": [
       "<div>\n",
       "<style scoped>\n",
       "    .dataframe tbody tr th:only-of-type {\n",
       "        vertical-align: middle;\n",
       "    }\n",
       "\n",
       "    .dataframe tbody tr th {\n",
       "        vertical-align: top;\n",
       "    }\n",
       "\n",
       "    .dataframe thead th {\n",
       "        text-align: right;\n",
       "    }\n",
       "</style>\n",
       "<table border=\"1\" class=\"dataframe\">\n",
       "  <thead>\n",
       "    <tr style=\"text-align: right;\">\n",
       "      <th></th>\n",
       "      <th>version</th>\n",
       "      <th>UnitsRes</th>\n",
       "      <th>LotArea</th>\n",
       "      <th>BldgArea</th>\n",
       "      <th>ComArea</th>\n",
       "      <th>ResArea</th>\n",
       "      <th>OfficeArea</th>\n",
       "      <th>RetailArea</th>\n",
       "      <th>GarageArea</th>\n",
       "      <th>StrgeArea</th>\n",
       "      <th>FactryArea</th>\n",
       "      <th>OtherArea</th>\n",
       "      <th>AssessLand</th>\n",
       "      <th>AssessTot</th>\n",
       "      <th>ExemptLand</th>\n",
       "      <th>ExemptTot</th>\n",
       "      <th>FIRM07_FLAG</th>\n",
       "      <th>PFIRM15_FLAG</th>\n",
       "    </tr>\n",
       "    <tr>\n",
       "      <th>version</th>\n",
       "      <th></th>\n",
       "      <th></th>\n",
       "      <th></th>\n",
       "      <th></th>\n",
       "      <th></th>\n",
       "      <th></th>\n",
       "      <th></th>\n",
       "      <th></th>\n",
       "      <th></th>\n",
       "      <th></th>\n",
       "      <th></th>\n",
       "      <th></th>\n",
       "      <th></th>\n",
       "      <th></th>\n",
       "      <th></th>\n",
       "      <th></th>\n",
       "      <th></th>\n",
       "      <th></th>\n",
       "    </tr>\n",
       "  </thead>\n",
       "  <tbody>\n",
       "    <tr>\n",
       "      <th>19v1</th>\n",
       "      <td>NaN</td>\n",
       "      <td>NaN</td>\n",
       "      <td>NaN</td>\n",
       "      <td>NaN</td>\n",
       "      <td>NaN</td>\n",
       "      <td>NaN</td>\n",
       "      <td>NaN</td>\n",
       "      <td>NaN</td>\n",
       "      <td>NaN</td>\n",
       "      <td>NaN</td>\n",
       "      <td>NaN</td>\n",
       "      <td>NaN</td>\n",
       "      <td>NaN</td>\n",
       "      <td>NaN</td>\n",
       "      <td>NaN</td>\n",
       "      <td>NaN</td>\n",
       "      <td>NaN</td>\n",
       "      <td>NaN</td>\n",
       "    </tr>\n",
       "    <tr>\n",
       "      <th>18V2</th>\n",
       "      <td>NaN</td>\n",
       "      <td>NaN</td>\n",
       "      <td>NaN</td>\n",
       "      <td>NaN</td>\n",
       "      <td>NaN</td>\n",
       "      <td>NaN</td>\n",
       "      <td>NaN</td>\n",
       "      <td>NaN</td>\n",
       "      <td>NaN</td>\n",
       "      <td>NaN</td>\n",
       "      <td>NaN</td>\n",
       "      <td>NaN</td>\n",
       "      <td>NaN</td>\n",
       "      <td>NaN</td>\n",
       "      <td>NaN</td>\n",
       "      <td>NaN</td>\n",
       "      <td>NaN</td>\n",
       "      <td>NaN</td>\n",
       "    </tr>\n",
       "    <tr>\n",
       "      <th>18v1</th>\n",
       "      <td>NaN</td>\n",
       "      <td>NaN</td>\n",
       "      <td>NaN</td>\n",
       "      <td>NaN</td>\n",
       "      <td>NaN</td>\n",
       "      <td>NaN</td>\n",
       "      <td>NaN</td>\n",
       "      <td>NaN</td>\n",
       "      <td>NaN</td>\n",
       "      <td>NaN</td>\n",
       "      <td>NaN</td>\n",
       "      <td>NaN</td>\n",
       "      <td>NaN</td>\n",
       "      <td>NaN</td>\n",
       "      <td>NaN</td>\n",
       "      <td>NaN</td>\n",
       "      <td>NaN</td>\n",
       "      <td>NaN</td>\n",
       "    </tr>\n",
       "  </tbody>\n",
       "</table>\n",
       "</div>"
      ],
      "text/plain": [
       "        version  UnitsRes  LotArea  BldgArea  ComArea  ResArea  OfficeArea  \\\n",
       "version                                                                      \n",
       "19v1        NaN       NaN      NaN       NaN      NaN      NaN         NaN   \n",
       "18V2        NaN       NaN      NaN       NaN      NaN      NaN         NaN   \n",
       "18v1        NaN       NaN      NaN       NaN      NaN      NaN         NaN   \n",
       "\n",
       "         RetailArea  GarageArea  StrgeArea  FactryArea  OtherArea  AssessLand  \\\n",
       "version                                                                         \n",
       "19v1            NaN         NaN        NaN         NaN        NaN         NaN   \n",
       "18V2            NaN         NaN        NaN         NaN        NaN         NaN   \n",
       "18v1            NaN         NaN        NaN         NaN        NaN         NaN   \n",
       "\n",
       "         AssessTot  ExemptLand  ExemptTot  FIRM07_FLAG  PFIRM15_FLAG  \n",
       "version                                                               \n",
       "19v1           NaN         NaN        NaN          NaN           NaN  \n",
       "18V2           NaN         NaN        NaN          NaN           NaN  \n",
       "18v1           NaN         NaN        NaN          NaN           NaN  "
      ]
     },
     "execution_count": 29,
     "metadata": {},
     "output_type": "execute_result"
    }
   ],
   "source": [
    "summary"
   ]
  },
  {
   "cell_type": "code",
   "execution_count": 20,
   "metadata": {},
   "outputs": [],
   "source": [
    "summary_pct = summary.iloc[:, 1:].pct_change()"
   ]
  },
  {
   "cell_type": "code",
   "execution_count": 21,
   "metadata": {},
   "outputs": [
    {
     "data": {
      "text/html": [
       "<div>\n",
       "<style scoped>\n",
       "    .dataframe tbody tr th:only-of-type {\n",
       "        vertical-align: middle;\n",
       "    }\n",
       "\n",
       "    .dataframe tbody tr th {\n",
       "        vertical-align: top;\n",
       "    }\n",
       "\n",
       "    .dataframe thead th {\n",
       "        text-align: right;\n",
       "    }\n",
       "</style>\n",
       "<table border=\"1\" class=\"dataframe\">\n",
       "  <thead>\n",
       "    <tr style=\"text-align: right;\">\n",
       "      <th></th>\n",
       "      <th>UnitsRes</th>\n",
       "      <th>LotArea</th>\n",
       "      <th>BldgArea</th>\n",
       "      <th>ComArea</th>\n",
       "      <th>ResArea</th>\n",
       "      <th>OfficeArea</th>\n",
       "      <th>RetailArea</th>\n",
       "      <th>GarageArea</th>\n",
       "      <th>StrgeArea</th>\n",
       "      <th>FactryArea</th>\n",
       "      <th>OtherArea</th>\n",
       "      <th>AssessLand</th>\n",
       "      <th>AssessTot</th>\n",
       "      <th>ExemptLand</th>\n",
       "      <th>ExemptTot</th>\n",
       "      <th>FIRM07_FLAG</th>\n",
       "      <th>PFIRM15_FLAG</th>\n",
       "    </tr>\n",
       "    <tr>\n",
       "      <th>version</th>\n",
       "      <th></th>\n",
       "      <th></th>\n",
       "      <th></th>\n",
       "      <th></th>\n",
       "      <th></th>\n",
       "      <th></th>\n",
       "      <th></th>\n",
       "      <th></th>\n",
       "      <th></th>\n",
       "      <th></th>\n",
       "      <th></th>\n",
       "      <th></th>\n",
       "      <th></th>\n",
       "      <th></th>\n",
       "      <th></th>\n",
       "      <th></th>\n",
       "      <th></th>\n",
       "    </tr>\n",
       "  </thead>\n",
       "  <tbody>\n",
       "    <tr>\n",
       "      <th>19v1</th>\n",
       "      <td>NaN</td>\n",
       "      <td>NaN</td>\n",
       "      <td>NaN</td>\n",
       "      <td>NaN</td>\n",
       "      <td>NaN</td>\n",
       "      <td>NaN</td>\n",
       "      <td>NaN</td>\n",
       "      <td>NaN</td>\n",
       "      <td>NaN</td>\n",
       "      <td>NaN</td>\n",
       "      <td>NaN</td>\n",
       "      <td>NaN</td>\n",
       "      <td>NaN</td>\n",
       "      <td>NaN</td>\n",
       "      <td>NaN</td>\n",
       "      <td>NaN</td>\n",
       "      <td>NaN</td>\n",
       "    </tr>\n",
       "    <tr>\n",
       "      <th>18V2</th>\n",
       "      <td>NaN</td>\n",
       "      <td>NaN</td>\n",
       "      <td>NaN</td>\n",
       "      <td>NaN</td>\n",
       "      <td>NaN</td>\n",
       "      <td>NaN</td>\n",
       "      <td>NaN</td>\n",
       "      <td>NaN</td>\n",
       "      <td>NaN</td>\n",
       "      <td>NaN</td>\n",
       "      <td>NaN</td>\n",
       "      <td>NaN</td>\n",
       "      <td>NaN</td>\n",
       "      <td>NaN</td>\n",
       "      <td>NaN</td>\n",
       "      <td>NaN</td>\n",
       "      <td>NaN</td>\n",
       "    </tr>\n",
       "    <tr>\n",
       "      <th>18v1</th>\n",
       "      <td>NaN</td>\n",
       "      <td>NaN</td>\n",
       "      <td>NaN</td>\n",
       "      <td>NaN</td>\n",
       "      <td>NaN</td>\n",
       "      <td>NaN</td>\n",
       "      <td>NaN</td>\n",
       "      <td>NaN</td>\n",
       "      <td>NaN</td>\n",
       "      <td>NaN</td>\n",
       "      <td>NaN</td>\n",
       "      <td>NaN</td>\n",
       "      <td>NaN</td>\n",
       "      <td>NaN</td>\n",
       "      <td>NaN</td>\n",
       "      <td>NaN</td>\n",
       "      <td>NaN</td>\n",
       "    </tr>\n",
       "  </tbody>\n",
       "</table>\n",
       "</div>"
      ],
      "text/plain": [
       "         UnitsRes  LotArea  BldgArea  ComArea  ResArea  OfficeArea  \\\n",
       "version                                                              \n",
       "19v1          NaN      NaN       NaN      NaN      NaN         NaN   \n",
       "18V2          NaN      NaN       NaN      NaN      NaN         NaN   \n",
       "18v1          NaN      NaN       NaN      NaN      NaN         NaN   \n",
       "\n",
       "         RetailArea  GarageArea  StrgeArea  FactryArea  OtherArea  AssessLand  \\\n",
       "version                                                                         \n",
       "19v1            NaN         NaN        NaN         NaN        NaN         NaN   \n",
       "18V2            NaN         NaN        NaN         NaN        NaN         NaN   \n",
       "18v1            NaN         NaN        NaN         NaN        NaN         NaN   \n",
       "\n",
       "         AssessTot  ExemptLand  ExemptTot  FIRM07_FLAG  PFIRM15_FLAG  \n",
       "version                                                               \n",
       "19v1           NaN         NaN        NaN          NaN           NaN  \n",
       "18V2           NaN         NaN        NaN          NaN           NaN  \n",
       "18v1           NaN         NaN        NaN          NaN           NaN  "
      ]
     },
     "execution_count": 21,
     "metadata": {},
     "output_type": "execute_result"
    }
   ],
   "source": [
    "summary_pct"
   ]
  },
  {
   "cell_type": "code",
   "execution_count": 47,
   "metadata": {},
   "outputs": [
    {
     "data": {
      "image/png": "[encoded data removed]",
      "text/plain": [
       "<Figure size 1080x720 with 1 Axes>"
      ]
     },
     "metadata": {
      "needs_background": "light"
     },
     "output_type": "display_data"
    }
   ],
   "source": [
    "plt.figure(figsize=(15, 10))\n",
    "plt.plot(range(17), -summary_pct.iloc[1, :], color = 'blue', label='18v1_18v2')\n",
    "plt.plot(range(17), -summary_pct.iloc[2, :], color = 'red', label='17v11_18v1')\n",
    "plt.hlines(0, 0, 17, color = 'black')\n",
    "for i in range(17):\n",
    "    plt.vlines(i, min(-summary_pct.iloc[2, :]), max(-summary_pct.iloc[2, :]), color = '#e1e9f7', linestyles='dashed')\n",
    "plt.xticks(range(17), summary_pct.columns, rotation=70)\n",
    "plt.title('19v1_18v2_18v1 Aggregated Value Comparison')\n",
    "plt.legend()\n",
    "plt.savefig('19v1_18v2_18v1_Aggregated_Value_Comparison.png', bbox_inches='tight')\n",
    "plt.show()"
   ]
  }
 ],
 "metadata": {
  "kernelspec": {
   "display_name": "Python 3",
   "language": "python",
   "name": "python3"
  },
  "language_info": {
   "codemirror_mode": {
    "name": "ipython",
    "version": 3
   },
   "file_extension": ".py",
   "mimetype": "text/x-python",
   "name": "python",
   "nbconvert_exporter": "python",
   "pygments_lexer": "ipython3",
   "version": "3.7.3"
  }
 },
 "nbformat": 4,
 "nbformat_minor": 2
}
