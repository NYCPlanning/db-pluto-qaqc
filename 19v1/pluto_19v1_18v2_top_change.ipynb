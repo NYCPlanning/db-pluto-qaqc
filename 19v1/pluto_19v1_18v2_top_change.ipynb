{
 "cells": [
  {
   "cell_type": "code",
   "execution_count": 4,
   "metadata": {},
   "outputs": [
    {
     "name": "stdout",
     "output_type": "stream",
     "text": [
      "2019-05-29 15:52:05.649872\n"
     ]
    }
   ],
   "source": [
    "from pyspark.sql.functions import mean, udf, col, round\n",
    "from pyspark.sql.types import DoubleType\n",
    "from pyspark.sql.window import Window\n",
    "from pyspark.sql.functions import rank, col\n",
    "import pandas as pd\n",
    "import numpy as np\n",
    "import time\n",
    "import matplotlib.pyplot as plt\n",
    "import datetime\n",
    "print(datetime.datetime.now())\n",
    "%matplotlib inline\n",
    "\n",
    "from pyspark.context import SparkContext\n",
    "from pyspark.sql.session import SparkSession\n",
    "sc = SparkContext('local')\n",
    "spark = SparkSession(sc)"
   ]
  },
  {
   "cell_type": "markdown",
   "metadata": {},
   "source": [
    "## import csv files into spark dataframes\n",
    "Note: both files contain records from all 5 boroughs"
   ]
  },
  {
   "cell_type": "code",
   "execution_count": 5,
   "metadata": {},
   "outputs": [],
   "source": [
    "df1 = spark.read.csv('data/pluto_19v1.csv', header=True)\n",
    "df2 = spark.read.csv('data/pluto_18v2_1.csv', header=True)"
   ]
  },
  {
   "cell_type": "code",
   "execution_count": 6,
   "metadata": {},
   "outputs": [],
   "source": [
    "df1 = df1.select([col(A).alias(A.lower()) for A in df1.schema.names])\n",
    "df2 = df2.select([col(A).alias(A.lower()) for A in df2.schema.names])"
   ]
  },
  {
   "cell_type": "code",
   "execution_count": 7,
   "metadata": {},
   "outputs": [],
   "source": [
    "double_columns = ['bldgarea', 'facilfar',\n",
    "                  'residfar', 'commfar', 'numbldgs', 'numfloors', 'bldgdepth', \n",
    "                  'bldgfront', 'lotdepth', 'lotfront', \n",
    "                  'exempttot', 'exemptland',  'assessland', 'assesstot', 'builtfar']"
   ]
  },
  {
   "cell_type": "code",
   "execution_count": 8,
   "metadata": {},
   "outputs": [],
   "source": [
    "cols = df2.columns"
   ]
  },
  {
   "cell_type": "code",
   "execution_count": 9,
   "metadata": {},
   "outputs": [],
   "source": [
    "df1 = df1.select(cols)\n",
    "df2 = df2.select(cols)"
   ]
  },
  {
   "cell_type": "markdown",
   "metadata": {},
   "source": [
    "## Type Conversion"
   ]
  },
  {
   "cell_type": "code",
   "execution_count": 10,
   "metadata": {},
   "outputs": [],
   "source": [
    "for A in double_columns: \n",
    "    df1 = df1.withColumn(A, round(col(A).cast(DoubleType()), 2))\n",
    "    df2 = df2.withColumn(A, round(col(A).cast(DoubleType()), 2))"
   ]
  },
  {
   "cell_type": "markdown",
   "metadata": {},
   "source": [
    "## Change column names and joining dataframes\n",
    "* since we are doing column comparison, we need to the column names of one df to avoid confusion\n",
    "* in this case, we add \"_1\"_ to the name, e.g. \"BBL\" ==> \"BBL_1\"\n",
    "* here we are doing an inner join because we only care about the BBL's that apeared in both dataframes"
   ]
  },
  {
   "cell_type": "code",
   "execution_count": 11,
   "metadata": {},
   "outputs": [],
   "source": [
    "df1 = df1.select([col(A).alias(A+'_1') for A in df1.schema.names])"
   ]
  },
  {
   "cell_type": "code",
   "execution_count": 12,
   "metadata": {},
   "outputs": [],
   "source": [
    "df1_names = df1.schema.names\n",
    "df2_names = df2.schema.names\n",
    "colnames = zip(df1_names, df2_names)"
   ]
  },
  {
   "cell_type": "code",
   "execution_count": 13,
   "metadata": {},
   "outputs": [],
   "source": [
    "df = df2.join(df1, df2['bbl'] == df1['bbl_1'])\n",
    "df0 = df"
   ]
  },
  {
   "cell_type": "markdown",
   "metadata": {},
   "source": [
    "## Inspect top differences"
   ]
  },
  {
   "cell_type": "code",
   "execution_count": 14,
   "metadata": {},
   "outputs": [],
   "source": [
    "@udf\n",
    "def diff(col1,col2):\n",
    "    try:\n",
    "        return abs(col2-col1)\n",
    "    except: \n",
    "        pass"
   ]
  },
  {
   "cell_type": "code",
   "execution_count": 15,
   "metadata": {},
   "outputs": [],
   "source": [
    "spark.sql('set spark.sql.caseSensitive=true')\n",
    "targets = ['unitsres','lotarea','bldgarea',\n",
    "             'comarea','resarea',\n",
    "             'officearea','retailarea',\n",
    "             'garagearea','strgearea',\n",
    "             'factryarea','otherarea']\n",
    "for A in targets:\n",
    "    df0 = df0.withColumn(A+'_diff', diff(col(A).cast(DoubleType()),col(A+'_1').cast(DoubleType())))"
   ]
  },
  {
   "cell_type": "code",
   "execution_count": 16,
   "metadata": {},
   "outputs": [
    {
     "name": "stdout",
     "output_type": "stream",
     "text": [
      "+----------+-------------+\n",
      "|       bbl|unitsres_diff|\n",
      "+----------+-------------+\n",
      "|3002390016|       1322.0|\n",
      "|4004370020|        802.0|\n",
      "|4004370011|        802.0|\n",
      "|4004370015|        802.0|\n",
      "|4004370008|        802.0|\n",
      "+----------+-------------+\n",
      "only showing top 5 rows\n",
      "\n"
     ]
    }
   ],
   "source": [
    "df0.select('bbl', col('unitsres_diff').cast(DoubleType())).orderBy('unitsres_diff', ascending=False).show(5)"
   ]
  },
  {
   "cell_type": "code",
   "execution_count": 17,
   "metadata": {},
   "outputs": [
    {
     "name": "stdout",
     "output_type": "stream",
     "text": [
      "+----------+------------+\n",
      "|       bbl|comarea_diff|\n",
      "+----------+------------+\n",
      "|1000580001|   5887499.0|\n",
      "|4009260001|   1401784.0|\n",
      "|1018860001|   1269723.0|\n",
      "|1006720001|   1062349.0|\n",
      "|1006730001|    795335.0|\n",
      "+----------+------------+\n",
      "only showing top 5 rows\n",
      "\n"
     ]
    }
   ],
   "source": [
    "df0.select('bbl', col('comarea_diff').cast(DoubleType())).orderBy('comarea_diff', ascending=False).show(5)"
   ]
  },
  {
   "cell_type": "code",
   "execution_count": 18,
   "metadata": {},
   "outputs": [
    {
     "name": "stdout",
     "output_type": "stream",
     "text": [
      "+----------+------------+\n",
      "|       bbl|resarea_diff|\n",
      "+----------+------------+\n",
      "|1010517502|   5343460.0|\n",
      "|1000940001|   1813255.0|\n",
      "|1000160100|   1669272.0|\n",
      "|4163500400|   1599900.0|\n",
      "|3044520085|   1548030.0|\n",
      "+----------+------------+\n",
      "only showing top 5 rows\n",
      "\n"
     ]
    }
   ],
   "source": [
    "df0.select('bbl', col('resarea_diff').cast(DoubleType())).orderBy('resarea_diff', ascending=False).show(5)"
   ]
  },
  {
   "cell_type": "code",
   "execution_count": 19,
   "metadata": {},
   "outputs": [
    {
     "name": "stdout",
     "output_type": "stream",
     "text": [
      "+----------+---------------+\n",
      "|       bbl|officearea_diff|\n",
      "+----------+---------------+\n",
      "|1007390001|       676250.0|\n",
      "|2044270029|       382935.0|\n",
      "|1009220046|       331459.0|\n",
      "|4096950014|       321024.0|\n",
      "|1013100001|       299750.0|\n",
      "+----------+---------------+\n",
      "only showing top 5 rows\n",
      "\n"
     ]
    }
   ],
   "source": [
    "df0.select('bbl', col('officearea_diff').cast(DoubleType())).orderBy('officearea_diff', ascending=False).show(5)"
   ]
  },
  {
   "cell_type": "code",
   "execution_count": 20,
   "metadata": {},
   "outputs": [
    {
     "name": "stdout",
     "output_type": "stream",
     "text": [
      "+----------+---------------+\n",
      "|       bbl|retailarea_diff|\n",
      "+----------+---------------+\n",
      "|5024000180|       574842.0|\n",
      "|5001020001|       510819.0|\n",
      "|1006620003|       211000.0|\n",
      "|1011020029|       189534.0|\n",
      "|1005107502|       188149.0|\n",
      "+----------+---------------+\n",
      "only showing top 5 rows\n",
      "\n"
     ]
    }
   ],
   "source": [
    "df0.select('bbl', col('retailarea_diff').cast(DoubleType()))\\\n",
    "    .orderBy('retailarea_diff', ascending=False).show(5)"
   ]
  },
  {
   "cell_type": "code",
   "execution_count": 21,
   "metadata": {},
   "outputs": [
    {
     "name": "stdout",
     "output_type": "stream",
     "text": [
      "+----------+---------------+\n",
      "|       bbl|garagearea_diff|\n",
      "+----------+---------------+\n",
      "|4017857504|       630358.0|\n",
      "|2051350210|       296715.0|\n",
      "|4049787502|       271294.0|\n",
      "|3001570001|       248600.0|\n",
      "|1000180100|       188772.0|\n",
      "+----------+---------------+\n",
      "only showing top 5 rows\n",
      "\n"
     ]
    }
   ],
   "source": [
    "df0.select('bbl', col('garagearea_diff').cast(DoubleType()))\\\n",
    "    .orderBy('garagearea_diff', ascending=False).show(5)"
   ]
  },
  {
   "cell_type": "code",
   "execution_count": 22,
   "metadata": {},
   "outputs": [
    {
     "name": "stdout",
     "output_type": "stream",
     "text": [
      "+----------+---------------+\n",
      "|       bbl|factryarea_diff|\n",
      "+----------+---------------+\n",
      "|1006730001|       795335.0|\n",
      "|4026490113|       583890.0|\n",
      "|3081490300|       373403.0|\n",
      "|2027710045|       361343.0|\n",
      "|1008397501|       311886.0|\n",
      "+----------+---------------+\n",
      "only showing top 5 rows\n",
      "\n"
     ]
    }
   ],
   "source": [
    "df0.select('bbl', col('factryarea_diff').cast(DoubleType()))\\\n",
    "    .orderBy('factryarea_diff', ascending=False).show(5)"
   ]
  },
  {
   "cell_type": "code",
   "execution_count": 23,
   "metadata": {},
   "outputs": [
    {
     "name": "stdout",
     "output_type": "stream",
     "text": [
      "+----------+--------------+\n",
      "|       bbl|otherarea_diff|\n",
      "+----------+--------------+\n",
      "|1007390001|      549853.0|\n",
      "|5001020001|      510819.0|\n",
      "|3078810033|      480000.0|\n",
      "|1000237501|      479973.0|\n",
      "|3006440001|      427123.0|\n",
      "+----------+--------------+\n",
      "only showing top 5 rows\n",
      "\n"
     ]
    }
   ],
   "source": [
    "df0.select('bbl', col('otherarea_diff').cast(DoubleType()))\\\n",
    "    .orderBy('otherarea_diff', ascending=False).show(5)"
   ]
  },
  {
   "cell_type": "code",
   "execution_count": null,
   "metadata": {},
   "outputs": [],
   "source": []
  }
 ],
 "metadata": {
  "kernelspec": {
   "display_name": "Python 3",
   "language": "python",
   "name": "python3"
  },
  "language_info": {
   "codemirror_mode": {
    "name": "ipython",
    "version": 3
   },
   "file_extension": ".py",
   "mimetype": "text/x-python",
   "name": "python",
   "nbconvert_exporter": "python",
   "pygments_lexer": "ipython3",
   "version": "3.7.3"
  }
 },
 "nbformat": 4,
 "nbformat_minor": 2
}
